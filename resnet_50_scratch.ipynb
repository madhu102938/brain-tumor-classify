{
 "cells": [
  {
   "cell_type": "code",
   "execution_count": 3,
   "id": "4f42fecc-dfa1-48c2-a898-b84bbf013d5f",
   "metadata": {
    "tags": []
   },
   "outputs": [],
   "source": [
    "import tensorflow as tf\n",
    "import numpy as np\n",
    "import matplotlib.pyplot as plt"
   ]
  },
  {
   "cell_type": "code",
   "execution_count": 21,
   "id": "a3138aa3-ddad-4f2e-bf85-2a21a8463204",
   "metadata": {
    "tags": []
   },
   "outputs": [],
   "source": [
    "image_size = (128, 128)"
   ]
  },
  {
   "cell_type": "code",
   "execution_count": 10,
   "id": "42e0f040-71aa-4750-a7a7-eb662780ec9c",
   "metadata": {
    "tags": []
   },
   "outputs": [],
   "source": [
    "def conv_block(X, filters, s=2):\n",
    "    X_shortcut = X\n",
    "    f1, f2, f3 = filters\n",
    "    X = tf.keras.layers.Conv2D(filters=f1, kernel_size=1, padding='valid', strides=(s, s))(X)\n",
    "    X = tf.keras.layers.BatchNormalization(axis=3)(X)\n",
    "    X = tf.keras.layers.ReLU()(X)\n",
    "    \n",
    "    X = tf.keras.layers.Conv2D(filters=f2, kernel_size=3, padding='same')(X)\n",
    "    X = tf.keras.layers.BatchNormalization(axis=3)(X)\n",
    "    X = tf.keras.layers.ReLU()(X)\n",
    "\n",
    "    X = tf.keras.layers.Conv2D(filters=f3, kernel_size=1, padding='valid')(X)\n",
    "    X = tf.keras.layers.BatchNormalization(axis=3)(X)\n",
    "    X = tf.keras.layers.ReLU()(X)\n",
    "    \n",
    "    X_shortcut = tf.keras.layers.Conv2D(filters=f3, kernel_size=1, padding='valid', strides=(s,s))(X_shortcut)\n",
    "    X_shortcut = tf.keras.layers.BatchNormalization(axis=3)(X_shortcut)\n",
    "    \n",
    "    X = tf.keras.layers.Add()([X, X_shortcut])\n",
    "    return tf.keras.layers.ReLU()(X)"
   ]
  },
  {
   "cell_type": "code",
   "execution_count": 12,
   "id": "831be8b0-6b69-46f7-bedd-3d7fdf1a781f",
   "metadata": {
    "tags": []
   },
   "outputs": [],
   "source": [
    "def identity_block(X, filters):\n",
    "    X_shortcut = X\n",
    "    f1, f2, f3 = filters\n",
    "    X = tf.keras.layers.Conv2D(filters=f1, kernel_size=1, padding='valid')(X)\n",
    "    X = tf.keras.layers.BatchNormalization(axis=3)(X)\n",
    "    X = tf.keras.layers.ReLU()(X)\n",
    "    \n",
    "    X = tf.keras.layers.Conv2D(filters=f2, kernel_size=3, padding='same')(X)\n",
    "    X = tf.keras.layers.BatchNormalization(axis=3)(X)\n",
    "    X = tf.keras.layers.ReLU()(X)\n",
    "\n",
    "    X = tf.keras.layers.Conv2D(filters=f3, kernel_size=1, padding='valid')(X)\n",
    "    X = tf.keras.layers.BatchNormalization(axis=3)(X)\n",
    "    X = tf.keras.layers.ReLU()(X)\n",
    "    \n",
    "    # X_shortcut = tf.keras.layers.Conv2D(filters=f3, kernel_size=1, padding='valid')(X_shortcut)\n",
    "    # X_shortcut = tf.keras.layers.BatchNormalization(axis=3)(X_shortcut)\n",
    "    \n",
    "    X = tf.keras.layers.Add()([X, X_shortcut])\n",
    "    return tf.keras.layers.ReLU()(X)"
   ]
  },
  {
   "cell_type": "code",
   "execution_count": 46,
   "id": "15f74c32-9f76-470e-b0f8-0f8199b4281c",
   "metadata": {
    "tags": []
   },
   "outputs": [],
   "source": [
    "def resNet50(input_shape=(128,128,3)):\n",
    "    X_input = tf.keras.layers.Input(shape=input_shape)\n",
    "    X = tf.keras.layers.ZeroPadding2D((3,3))(X_input)\n",
    "    \n",
    "    X = tf.keras.layers.Conv2D(filters=64, kernel_size=7, strides=2)(X)\n",
    "    X = tf.keras.layers.BatchNormalization(axis=3)(X)\n",
    "    X = tf.keras.layers.ReLU()(X)\n",
    "    X = tf.keras.layers.MaxPool2D(pool_size=(3,3), strides=2)(X)\n",
    "    \n",
    "    X = conv_block(X, filters=[64, 64, 256], s=1)\n",
    "    X = identity_block(X, filters=[64, 64, 256])\n",
    "    X = identity_block(X, filters=[64, 64, 256])\n",
    "\n",
    "    X = conv_block(X, filters=[128, 128, 512], s=2)\n",
    "    X = identity_block(X, filters=[128, 128, 512])\n",
    "    X = identity_block(X, filters=[128, 128, 512])\n",
    "    X = identity_block(X, filters=[128, 128, 512])\n",
    "\n",
    "    X = conv_block(X, filters=[256, 256, 1024], s=2)\n",
    "    X = identity_block(X, filters=[256, 256, 1024])\n",
    "    X = identity_block(X, filters=[256, 256, 1024])\n",
    "    X = identity_block(X, filters=[256, 256, 1024])\n",
    "    X = identity_block(X, filters=[256, 256, 1024])\n",
    "    X = identity_block(X, filters=[256, 256, 1024])\n",
    "\n",
    "    X = conv_block(X, filters=[512, 512, 2048], s=2)\n",
    "    X = identity_block(X, filters=[512, 512, 2048])\n",
    "    X = identity_block(X, filters=[512, 512, 2048])\n",
    "\n",
    "    X = tf.keras.layers.AveragePooling2D((2,2), padding='same')(X)\n",
    "    \n",
    "    X = tf.keras.layers.Flatten()(X)\n",
    "    X = tf.keras.layers.Dense(4, activation='softmax')(X)\n",
    "    \n",
    "    model = tf.keras.Model(inputs=X_input, outputs=X, name='ResNet50')\n",
    "    return model"
   ]
  },
  {
   "cell_type": "code",
   "execution_count": 22,
   "id": "88d69e2d-c4b1-4ad0-8a8b-41135e109c5c",
   "metadata": {
    "tags": []
   },
   "outputs": [
    {
     "name": "stdout",
     "output_type": "stream",
     "text": [
      "Found 5712 files belonging to 4 classes.\n",
      "Using 4570 files for training.\n"
     ]
    }
   ],
   "source": [
    "train_data = tf.keras.utils.image_dataset_from_directory('Training/', \n",
    "                                                        image_size=image_size,\n",
    "                                                        validation_split=0.2,\n",
    "                                                        subset='training',\n",
    "                                                        shuffle=True,\n",
    "                                                        seed=10)"
   ]
  },
  {
   "cell_type": "code",
   "execution_count": 23,
   "id": "79f301a5-a962-476d-8941-1a92bd130b4a",
   "metadata": {
    "tags": []
   },
   "outputs": [],
   "source": [
    "class_names = train_data.class_names"
   ]
  },
  {
   "cell_type": "code",
   "execution_count": 25,
   "id": "1b4eb1cf-de07-45ac-b672-98ff7ea63c95",
   "metadata": {
    "tags": []
   },
   "outputs": [
    {
     "name": "stdout",
     "output_type": "stream",
     "text": [
      "Found 5712 files belonging to 4 classes.\n",
      "Using 1142 files for validation.\n"
     ]
    }
   ],
   "source": [
    "val_data = tf.keras.utils.image_dataset_from_directory('Training/',\n",
    "                                                      image_size=image_size,\n",
    "                                                      validation_split=0.2,\n",
    "                                                      subset='validation',\n",
    "                                                      shuffle=True,\n",
    "                                                      seed=10)"
   ]
  },
  {
   "cell_type": "code",
   "execution_count": 26,
   "id": "dca0e84c-daa1-445e-a121-ea7efd4f720f",
   "metadata": {
    "tags": []
   },
   "outputs": [
    {
     "name": "stdout",
     "output_type": "stream",
     "text": [
      "Found 1311 files belonging to 4 classes.\n"
     ]
    }
   ],
   "source": [
    "test_data = tf.keras.utils.image_dataset_from_directory('Testing/',\n",
    "                                                       image_size=image_size,\n",
    "                                                       batch_size=32,\n",
    "                                                       shuffle=False,\n",
    "                                                       seed=10)"
   ]
  },
  {
   "cell_type": "code",
   "execution_count": 27,
   "id": "e7b85f1f-5873-4d81-a0ef-80f291a9d48c",
   "metadata": {
    "tags": []
   },
   "outputs": [
    {
     "name": "stdout",
     "output_type": "stream",
     "text": [
      "WARNING:tensorflow:From C:\\Users\\maddi\\anaconda3\\Lib\\site-packages\\keras\\src\\backend.py:873: The name tf.get_default_graph is deprecated. Please use tf.compat.v1.get_default_graph instead.\n",
      "\n"
     ]
    }
   ],
   "source": [
    "rescale_fn = tf.keras.layers.Rescaling(scale=1./255)\n",
    "\n",
    "train_data = train_data.map(lambda x, y: (rescale_fn(x), y))\n",
    "val_data = val_data.map(lambda x, y: (rescale_fn(x), y))\n",
    "test_data = test_data.map(lambda x, y: (rescale_fn(x), y))"
   ]
  },
  {
   "cell_type": "code",
   "execution_count": 47,
   "id": "47855f53-b642-4fc5-b03f-99a72cc8fd39",
   "metadata": {
    "tags": []
   },
   "outputs": [],
   "source": [
    "model = resNet50(input_shape=(128, 128, 3))"
   ]
  },
  {
   "cell_type": "code",
   "execution_count": 48,
   "id": "f056e726-6495-46c0-9049-fd619b3b1362",
   "metadata": {
    "tags": []
   },
   "outputs": [
    {
     "name": "stdout",
     "output_type": "stream",
     "text": [
      "WARNING:tensorflow:From C:\\Users\\maddi\\anaconda3\\Lib\\site-packages\\keras\\src\\optimizers\\__init__.py:309: The name tf.train.Optimizer is deprecated. Please use tf.compat.v1.train.Optimizer instead.\n",
      "\n"
     ]
    }
   ],
   "source": [
    "model.compile(optimizer='adam', loss=tf.keras.losses.SparseCategoricalCrossentropy(), metrics=['accuracy'])"
   ]
  },
  {
   "cell_type": "code",
   "execution_count": 50,
   "id": "fc0d2463-4518-4e73-9518-6b2be7d62c76",
   "metadata": {
    "tags": []
   },
   "outputs": [
    {
     "name": "stdout",
     "output_type": "stream",
     "text": [
      "Epoch 1/20\n",
      "143/143 [==============================] - 206s 1s/step - loss: 0.7718 - accuracy: 0.7558 - val_loss: 1.0490 - val_accuracy: 0.5919\n",
      "Epoch 2/20\n",
      "143/143 [==============================] - 208s 1s/step - loss: 0.7592 - accuracy: 0.7781 - val_loss: 5.1201 - val_accuracy: 0.6331\n",
      "Epoch 3/20\n",
      "143/143 [==============================] - 209s 1s/step - loss: 0.4514 - accuracy: 0.8313 - val_loss: 0.6784 - val_accuracy: 0.7426\n",
      "Epoch 4/20\n",
      "143/143 [==============================] - 209s 1s/step - loss: 0.4680 - accuracy: 0.8324 - val_loss: 1.4083 - val_accuracy: 0.4930\n",
      "Epoch 5/20\n",
      "143/143 [==============================] - 210s 1s/step - loss: 0.4887 - accuracy: 0.8385 - val_loss: 43.6800 - val_accuracy: 0.5149\n",
      "Epoch 6/20\n",
      "143/143 [==============================] - 210s 1s/step - loss: 0.3047 - accuracy: 0.8827 - val_loss: 0.4395 - val_accuracy: 0.8249\n",
      "Epoch 7/20\n",
      "143/143 [==============================] - 209s 1s/step - loss: 0.4311 - accuracy: 0.8646 - val_loss: 2292.6743 - val_accuracy: 0.2872\n",
      "Epoch 8/20\n",
      "143/143 [==============================] - 210s 1s/step - loss: 0.9640 - accuracy: 0.7842 - val_loss: 6.3249 - val_accuracy: 0.6918\n",
      "Epoch 9/20\n",
      "143/143 [==============================] - 232s 2s/step - loss: 0.3830 - accuracy: 0.8571 - val_loss: 0.5161 - val_accuracy: 0.8030\n",
      "Epoch 10/20\n",
      "143/143 [==============================] - 219s 2s/step - loss: 0.2935 - accuracy: 0.8860 - val_loss: 0.3726 - val_accuracy: 0.8722\n",
      "Epoch 11/20\n",
      "143/143 [==============================] - 211s 1s/step - loss: 0.2362 - accuracy: 0.9140 - val_loss: 0.3555 - val_accuracy: 0.8748\n",
      "Epoch 12/20\n",
      "143/143 [==============================] - 211s 1s/step - loss: 0.1888 - accuracy: 0.9311 - val_loss: 0.3389 - val_accuracy: 0.8809\n",
      "Epoch 13/20\n",
      "143/143 [==============================] - 212s 1s/step - loss: 0.8634 - accuracy: 0.8624 - val_loss: 6.7038 - val_accuracy: 0.5096\n",
      "Epoch 14/20\n",
      "143/143 [==============================] - 213s 1s/step - loss: 0.5457 - accuracy: 0.8604 - val_loss: 1.5946 - val_accuracy: 0.5473\n",
      "Epoch 15/20\n",
      "143/143 [==============================] - 211s 1s/step - loss: 1.2008 - accuracy: 0.7573 - val_loss: 2.5422 - val_accuracy: 0.3940\n",
      "Epoch 16/20\n",
      "143/143 [==============================] - 211s 1s/step - loss: 0.7055 - accuracy: 0.8315 - val_loss: 0.5442 - val_accuracy: 0.7741\n",
      "Epoch 17/20\n",
      "143/143 [==============================] - 210s 1s/step - loss: 0.3674 - accuracy: 0.8851 - val_loss: 0.8033 - val_accuracy: 0.7058\n",
      "Epoch 18/20\n",
      "143/143 [==============================] - 210s 1s/step - loss: 0.3305 - accuracy: 0.8958 - val_loss: 0.7631 - val_accuracy: 0.7215\n",
      "Epoch 19/20\n",
      "143/143 [==============================] - 212s 1s/step - loss: 0.2690 - accuracy: 0.9193 - val_loss: 0.3750 - val_accuracy: 0.8625\n",
      "Epoch 20/20\n",
      "143/143 [==============================] - 211s 1s/step - loss: 0.4255 - accuracy: 0.8635 - val_loss: 0.5622 - val_accuracy: 0.7802\n"
     ]
    }
   ],
   "source": [
    "history = model.fit(train_data, validation_data=val_data, epochs=20)"
   ]
  },
  {
   "cell_type": "code",
   "execution_count": 52,
   "id": "5f8ed431-9a86-49f3-b7a2-8c5136fb14a4",
   "metadata": {
    "tags": []
   },
   "outputs": [],
   "source": [
    "model.save('saved_models/resnet50_scratch.keras')"
   ]
  },
  {
   "cell_type": "code",
   "execution_count": 53,
   "id": "496a8400-06d2-4d79-8a12-9c5fee670743",
   "metadata": {
    "tags": []
   },
   "outputs": [
    {
     "data": {
      "image/png": "[encoded data removed]",
      "text/plain": [
       "<Figure size 640x480 with 1 Axes>"
      ]
     },
     "metadata": {},
     "output_type": "display_data"
    }
   ],
   "source": [
    "plt.plot(history.history['accuracy'])\n",
    "plt.plot(history.history['val_accuracy'])\n",
    "plt.title('model accuracy')\n",
    "plt.ylabel('accuracy')\n",
    "plt.xlabel('epoch')\n",
    "plt.legend(['train', 'val'], loc='upper left')\n",
    "plt.show()"
   ]
  },
  {
   "cell_type": "code",
   "execution_count": 54,
   "id": "2c6c0623-a896-4ecd-8641-bf4247b36330",
   "metadata": {
    "tags": []
   },
   "outputs": [
    {
     "data": {
      "image/png": "[encoded data removed]",
      "text/plain": [
       "<Figure size 640x480 with 1 Axes>"
      ]
     },
     "metadata": {},
     "output_type": "display_data"
    }
   ],
   "source": [
    "plt.plot(history.history['loss'])\n",
    "plt.plot(history.history['val_loss'])\n",
    "plt.title('model loss')\n",
    "plt.ylabel('loss')\n",
    "plt.xlabel('epoch')\n",
    "plt.legend(['train', 'val'], loc='upper left')\n",
    "plt.show()"
   ]
  },
  {
   "cell_type": "code",
   "execution_count": 56,
   "id": "644aed57-b64b-498f-b8f0-d80331931966",
   "metadata": {
    "tags": []
   },
   "outputs": [
    {
     "name": "stdout",
     "output_type": "stream",
     "text": [
      "41/41 [==============================] - 17s 389ms/step\n"
     ]
    }
   ],
   "source": [
    "y_pred = model.predict(test_data)"
   ]
  },
  {
   "cell_type": "code",
   "execution_count": 57,
   "id": "585a8d84-e066-46c9-a393-f81575327249",
   "metadata": {
    "tags": []
   },
   "outputs": [],
   "source": [
    "y_pred = tf.argmax(y_pred, axis=1).numpy()"
   ]
  },
  {
   "cell_type": "code",
   "execution_count": 58,
   "id": "978cc9d9-10e0-4b3b-af8e-c6abf384f03f",
   "metadata": {
    "tags": []
   },
   "outputs": [],
   "source": [
    "y_true = []\n",
    "for images, labels in test_data:\n",
    "    y_true.extend(labels.numpy())\n",
    "y_true = np.array(y_true)"
   ]
  },
  {
   "cell_type": "code",
   "execution_count": 59,
   "id": "5c6bb174-d773-4abe-a780-964939ff3773",
   "metadata": {
    "tags": []
   },
   "outputs": [],
   "source": [
    "from sklearn.metrics import confusion_matrix, accuracy_score, classification_report, ConfusionMatrixDisplay"
   ]
  },
  {
   "cell_type": "code",
   "execution_count": 60,
   "id": "bda9ed18-c542-44af-925a-527852216c72",
   "metadata": {
    "tags": []
   },
   "outputs": [
    {
     "data": {
      "text/plain": [
       "0.7185354691075515"
      ]
     },
     "execution_count": 60,
     "metadata": {},
     "output_type": "execute_result"
    }
   ],
   "source": [
    "accuracy_score(y_true, y_pred)"
   ]
  },
  {
   "cell_type": "code",
   "execution_count": 61,
   "id": "11935515-b7cd-4dc0-8285-8532625417ea",
   "metadata": {
    "tags": []
   },
   "outputs": [
    {
     "data": {
      "text/plain": [
       "array([[253,  46,   0,   1],\n",
       "       [ 48, 214,  17,  27],\n",
       "       [ 37, 127, 199,  42],\n",
       "       [ 12,  12,   0, 276]], dtype=int64)"
      ]
     },
     "execution_count": 61,
     "metadata": {},
     "output_type": "execute_result"
    }
   ],
   "source": [
    "cm = confusion_matrix(y_true, y_pred)\n",
    "cm"
   ]
  },
  {
   "cell_type": "code",
   "execution_count": 62,
   "id": "e2663c3f-1a96-4276-997d-96bdafd891c6",
   "metadata": {
    "tags": []
   },
   "outputs": [
    {
     "data": {
      "image/png": "[encoded data removed]",
      "text/plain": [
       "<Figure size 640x480 with 2 Axes>"
      ]
     },
     "metadata": {},
     "output_type": "display_data"
    }
   ],
   "source": [
    "cmd = ConfusionMatrixDisplay(cm, display_labels=class_names)\n",
    "cmd.plot()\n",
    "plt.show()"
   ]
  },
  {
   "cell_type": "code",
   "execution_count": 63,
   "id": "645de13c-c91b-4f28-979b-3f063f1fa1b7",
   "metadata": {
    "tags": []
   },
   "outputs": [
    {
     "name": "stdout",
     "output_type": "stream",
     "text": [
      "              precision    recall  f1-score   support\n",
      "\n",
      "      glioma       0.72      0.84      0.78       300\n",
      "  meningioma       0.54      0.70      0.61       306\n",
      "     notumor       0.92      0.49      0.64       405\n",
      "   pituitary       0.80      0.92      0.85       300\n",
      "\n",
      "    accuracy                           0.72      1311\n",
      "   macro avg       0.74      0.74      0.72      1311\n",
      "weighted avg       0.76      0.72      0.71      1311\n",
      "\n"
     ]
    }
   ],
   "source": [
    "print(classification_report(y_true, y_pred, target_names=class_names))"
   ]
  },
  {
   "cell_type": "code",
   "execution_count": 64,
   "id": "74311d50-9862-4b15-96a2-eaf3eeadbce3",
   "metadata": {
    "collapsed": true,
    "jupyter": {
     "outputs_hidden": true
    },
    "tags": []
   },
   "outputs": [
    {
     "name": "stdout",
     "output_type": "stream",
     "text": [
      "Model: \"ResNet50\"\n",
      "__________________________________________________________________________________________________\n",
      " Layer (type)                Output Shape                 Param #   Connected to                  \n",
      "==================================================================================================\n",
      " input_8 (InputLayer)        [(None, 128, 128, 3)]        0         []                            \n",
      "                                                                                                  \n",
      " zero_padding2d_8 (ZeroPadd  (None, 134, 134, 3)          0         ['input_8[0][0]']             \n",
      " ing2D)                                                                                           \n",
      "                                                                                                  \n",
      " conv2d_1 (Conv2D)           (None, 64, 64, 64)           9472      ['zero_padding2d_8[0][0]']    \n",
      "                                                                                                  \n",
      " batch_normalization_1 (Bat  (None, 64, 64, 64)           256       ['conv2d_1[0][0]']            \n",
      " chNormalization)                                                                                 \n",
      "                                                                                                  \n",
      " re_lu_1 (ReLU)              (None, 64, 64, 64)           0         ['batch_normalization_1[0][0]'\n",
      "                                                                    ]                             \n",
      "                                                                                                  \n",
      " max_pooling2d (MaxPooling2  (None, 31, 31, 64)           0         ['re_lu_1[0][0]']             \n",
      " D)                                                                                               \n",
      "                                                                                                  \n",
      " conv2d_2 (Conv2D)           (None, 31, 31, 64)           4160      ['max_pooling2d[0][0]']       \n",
      "                                                                                                  \n",
      " batch_normalization_2 (Bat  (None, 31, 31, 64)           256       ['conv2d_2[0][0]']            \n",
      " chNormalization)                                                                                 \n",
      "                                                                                                  \n",
      " re_lu_2 (ReLU)              (None, 31, 31, 64)           0         ['batch_normalization_2[0][0]'\n",
      "                                                                    ]                             \n",
      "                                                                                                  \n",
      " conv2d_3 (Conv2D)           (None, 31, 31, 64)           36928     ['re_lu_2[0][0]']             \n",
      "                                                                                                  \n",
      " batch_normalization_3 (Bat  (None, 31, 31, 64)           256       ['conv2d_3[0][0]']            \n",
      " chNormalization)                                                                                 \n",
      "                                                                                                  \n",
      " re_lu_3 (ReLU)              (None, 31, 31, 64)           0         ['batch_normalization_3[0][0]'\n",
      "                                                                    ]                             \n",
      "                                                                                                  \n",
      " conv2d_4 (Conv2D)           (None, 31, 31, 256)          16640     ['re_lu_3[0][0]']             \n",
      "                                                                                                  \n",
      " batch_normalization_4 (Bat  (None, 31, 31, 256)          1024      ['conv2d_4[0][0]']            \n",
      " chNormalization)                                                                                 \n",
      "                                                                                                  \n",
      " conv2d_5 (Conv2D)           (None, 31, 31, 256)          16640     ['max_pooling2d[0][0]']       \n",
      "                                                                                                  \n",
      " re_lu_4 (ReLU)              (None, 31, 31, 256)          0         ['batch_normalization_4[0][0]'\n",
      "                                                                    ]                             \n",
      "                                                                                                  \n",
      " batch_normalization_5 (Bat  (None, 31, 31, 256)          1024      ['conv2d_5[0][0]']            \n",
      " chNormalization)                                                                                 \n",
      "                                                                                                  \n",
      " add (Add)                   (None, 31, 31, 256)          0         ['re_lu_4[0][0]',             \n",
      "                                                                     'batch_normalization_5[0][0]'\n",
      "                                                                    ]                             \n",
      "                                                                                                  \n",
      " re_lu_5 (ReLU)              (None, 31, 31, 256)          0         ['add[0][0]']                 \n",
      "                                                                                                  \n",
      " conv2d_6 (Conv2D)           (None, 31, 31, 64)           16448     ['re_lu_5[0][0]']             \n",
      "                                                                                                  \n",
      " batch_normalization_6 (Bat  (None, 31, 31, 64)           256       ['conv2d_6[0][0]']            \n",
      " chNormalization)                                                                                 \n",
      "                                                                                                  \n",
      " re_lu_6 (ReLU)              (None, 31, 31, 64)           0         ['batch_normalization_6[0][0]'\n",
      "                                                                    ]                             \n",
      "                                                                                                  \n",
      " conv2d_7 (Conv2D)           (None, 31, 31, 64)           36928     ['re_lu_6[0][0]']             \n",
      "                                                                                                  \n",
      " batch_normalization_7 (Bat  (None, 31, 31, 64)           256       ['conv2d_7[0][0]']            \n",
      " chNormalization)                                                                                 \n",
      "                                                                                                  \n",
      " re_lu_7 (ReLU)              (None, 31, 31, 64)           0         ['batch_normalization_7[0][0]'\n",
      "                                                                    ]                             \n",
      "                                                                                                  \n",
      " conv2d_8 (Conv2D)           (None, 31, 31, 256)          16640     ['re_lu_7[0][0]']             \n",
      "                                                                                                  \n",
      " batch_normalization_8 (Bat  (None, 31, 31, 256)          1024      ['conv2d_8[0][0]']            \n",
      " chNormalization)                                                                                 \n",
      "                                                                                                  \n",
      " re_lu_8 (ReLU)              (None, 31, 31, 256)          0         ['batch_normalization_8[0][0]'\n",
      "                                                                    ]                             \n",
      "                                                                                                  \n",
      " add_1 (Add)                 (None, 31, 31, 256)          0         ['re_lu_8[0][0]',             \n",
      "                                                                     're_lu_5[0][0]']             \n",
      "                                                                                                  \n",
      " re_lu_9 (ReLU)              (None, 31, 31, 256)          0         ['add_1[0][0]']               \n",
      "                                                                                                  \n",
      " conv2d_9 (Conv2D)           (None, 31, 31, 64)           16448     ['re_lu_9[0][0]']             \n",
      "                                                                                                  \n",
      " batch_normalization_9 (Bat  (None, 31, 31, 64)           256       ['conv2d_9[0][0]']            \n",
      " chNormalization)                                                                                 \n",
      "                                                                                                  \n",
      " re_lu_10 (ReLU)             (None, 31, 31, 64)           0         ['batch_normalization_9[0][0]'\n",
      "                                                                    ]                             \n",
      "                                                                                                  \n",
      " conv2d_10 (Conv2D)          (None, 31, 31, 64)           36928     ['re_lu_10[0][0]']            \n",
      "                                                                                                  \n",
      " batch_normalization_10 (Ba  (None, 31, 31, 64)           256       ['conv2d_10[0][0]']           \n",
      " tchNormalization)                                                                                \n",
      "                                                                                                  \n",
      " re_lu_11 (ReLU)             (None, 31, 31, 64)           0         ['batch_normalization_10[0][0]\n",
      "                                                                    ']                            \n",
      "                                                                                                  \n",
      " conv2d_11 (Conv2D)          (None, 31, 31, 256)          16640     ['re_lu_11[0][0]']            \n",
      "                                                                                                  \n",
      " batch_normalization_11 (Ba  (None, 31, 31, 256)          1024      ['conv2d_11[0][0]']           \n",
      " tchNormalization)                                                                                \n",
      "                                                                                                  \n",
      " re_lu_12 (ReLU)             (None, 31, 31, 256)          0         ['batch_normalization_11[0][0]\n",
      "                                                                    ']                            \n",
      "                                                                                                  \n",
      " add_2 (Add)                 (None, 31, 31, 256)          0         ['re_lu_12[0][0]',            \n",
      "                                                                     're_lu_9[0][0]']             \n",
      "                                                                                                  \n",
      " re_lu_13 (ReLU)             (None, 31, 31, 256)          0         ['add_2[0][0]']               \n",
      "                                                                                                  \n",
      " conv2d_12 (Conv2D)          (None, 16, 16, 128)          32896     ['re_lu_13[0][0]']            \n",
      "                                                                                                  \n",
      " batch_normalization_12 (Ba  (None, 16, 16, 128)          512       ['conv2d_12[0][0]']           \n",
      " tchNormalization)                                                                                \n",
      "                                                                                                  \n",
      " re_lu_14 (ReLU)             (None, 16, 16, 128)          0         ['batch_normalization_12[0][0]\n",
      "                                                                    ']                            \n",
      "                                                                                                  \n",
      " conv2d_13 (Conv2D)          (None, 16, 16, 128)          147584    ['re_lu_14[0][0]']            \n",
      "                                                                                                  \n",
      " batch_normalization_13 (Ba  (None, 16, 16, 128)          512       ['conv2d_13[0][0]']           \n",
      " tchNormalization)                                                                                \n",
      "                                                                                                  \n",
      " re_lu_15 (ReLU)             (None, 16, 16, 128)          0         ['batch_normalization_13[0][0]\n",
      "                                                                    ']                            \n",
      "                                                                                                  \n",
      " conv2d_14 (Conv2D)          (None, 16, 16, 512)          66048     ['re_lu_15[0][0]']            \n",
      "                                                                                                  \n",
      " batch_normalization_14 (Ba  (None, 16, 16, 512)          2048      ['conv2d_14[0][0]']           \n",
      " tchNormalization)                                                                                \n",
      "                                                                                                  \n",
      " conv2d_15 (Conv2D)          (None, 16, 16, 512)          131584    ['re_lu_13[0][0]']            \n",
      "                                                                                                  \n",
      " re_lu_16 (ReLU)             (None, 16, 16, 512)          0         ['batch_normalization_14[0][0]\n",
      "                                                                    ']                            \n",
      "                                                                                                  \n",
      " batch_normalization_15 (Ba  (None, 16, 16, 512)          2048      ['conv2d_15[0][0]']           \n",
      " tchNormalization)                                                                                \n",
      "                                                                                                  \n",
      " add_3 (Add)                 (None, 16, 16, 512)          0         ['re_lu_16[0][0]',            \n",
      "                                                                     'batch_normalization_15[0][0]\n",
      "                                                                    ']                            \n",
      "                                                                                                  \n",
      " re_lu_17 (ReLU)             (None, 16, 16, 512)          0         ['add_3[0][0]']               \n",
      "                                                                                                  \n",
      " conv2d_16 (Conv2D)          (None, 16, 16, 128)          65664     ['re_lu_17[0][0]']            \n",
      "                                                                                                  \n",
      " batch_normalization_16 (Ba  (None, 16, 16, 128)          512       ['conv2d_16[0][0]']           \n",
      " tchNormalization)                                                                                \n",
      "                                                                                                  \n",
      " re_lu_18 (ReLU)             (None, 16, 16, 128)          0         ['batch_normalization_16[0][0]\n",
      "                                                                    ']                            \n",
      "                                                                                                  \n",
      " conv2d_17 (Conv2D)          (None, 16, 16, 128)          147584    ['re_lu_18[0][0]']            \n",
      "                                                                                                  \n",
      " batch_normalization_17 (Ba  (None, 16, 16, 128)          512       ['conv2d_17[0][0]']           \n",
      " tchNormalization)                                                                                \n",
      "                                                                                                  \n",
      " re_lu_19 (ReLU)             (None, 16, 16, 128)          0         ['batch_normalization_17[0][0]\n",
      "                                                                    ']                            \n",
      "                                                                                                  \n",
      " conv2d_18 (Conv2D)          (None, 16, 16, 512)          66048     ['re_lu_19[0][0]']            \n",
      "                                                                                                  \n",
      " batch_normalization_18 (Ba  (None, 16, 16, 512)          2048      ['conv2d_18[0][0]']           \n",
      " tchNormalization)                                                                                \n",
      "                                                                                                  \n",
      " re_lu_20 (ReLU)             (None, 16, 16, 512)          0         ['batch_normalization_18[0][0]\n",
      "                                                                    ']                            \n",
      "                                                                                                  \n",
      " add_4 (Add)                 (None, 16, 16, 512)          0         ['re_lu_20[0][0]',            \n",
      "                                                                     're_lu_17[0][0]']            \n",
      "                                                                                                  \n",
      " re_lu_21 (ReLU)             (None, 16, 16, 512)          0         ['add_4[0][0]']               \n",
      "                                                                                                  \n",
      " conv2d_19 (Conv2D)          (None, 16, 16, 128)          65664     ['re_lu_21[0][0]']            \n",
      "                                                                                                  \n",
      " batch_normalization_19 (Ba  (None, 16, 16, 128)          512       ['conv2d_19[0][0]']           \n",
      " tchNormalization)                                                                                \n",
      "                                                                                                  \n",
      " re_lu_22 (ReLU)             (None, 16, 16, 128)          0         ['batch_normalization_19[0][0]\n",
      "                                                                    ']                            \n",
      "                                                                                                  \n",
      " conv2d_20 (Conv2D)          (None, 16, 16, 128)          147584    ['re_lu_22[0][0]']            \n",
      "                                                                                                  \n",
      " batch_normalization_20 (Ba  (None, 16, 16, 128)          512       ['conv2d_20[0][0]']           \n",
      " tchNormalization)                                                                                \n",
      "                                                                                                  \n",
      " re_lu_23 (ReLU)             (None, 16, 16, 128)          0         ['batch_normalization_20[0][0]\n",
      "                                                                    ']                            \n",
      "                                                                                                  \n",
      " conv2d_21 (Conv2D)          (None, 16, 16, 512)          66048     ['re_lu_23[0][0]']            \n",
      "                                                                                                  \n",
      " batch_normalization_21 (Ba  (None, 16, 16, 512)          2048      ['conv2d_21[0][0]']           \n",
      " tchNormalization)                                                                                \n",
      "                                                                                                  \n",
      " re_lu_24 (ReLU)             (None, 16, 16, 512)          0         ['batch_normalization_21[0][0]\n",
      "                                                                    ']                            \n",
      "                                                                                                  \n",
      " add_5 (Add)                 (None, 16, 16, 512)          0         ['re_lu_24[0][0]',            \n",
      "                                                                     're_lu_21[0][0]']            \n",
      "                                                                                                  \n",
      " re_lu_25 (ReLU)             (None, 16, 16, 512)          0         ['add_5[0][0]']               \n",
      "                                                                                                  \n",
      " conv2d_22 (Conv2D)          (None, 16, 16, 128)          65664     ['re_lu_25[0][0]']            \n",
      "                                                                                                  \n",
      " batch_normalization_22 (Ba  (None, 16, 16, 128)          512       ['conv2d_22[0][0]']           \n",
      " tchNormalization)                                                                                \n",
      "                                                                                                  \n",
      " re_lu_26 (ReLU)             (None, 16, 16, 128)          0         ['batch_normalization_22[0][0]\n",
      "                                                                    ']                            \n",
      "                                                                                                  \n",
      " conv2d_23 (Conv2D)          (None, 16, 16, 128)          147584    ['re_lu_26[0][0]']            \n",
      "                                                                                                  \n",
      " batch_normalization_23 (Ba  (None, 16, 16, 128)          512       ['conv2d_23[0][0]']           \n",
      " tchNormalization)                                                                                \n",
      "                                                                                                  \n",
      " re_lu_27 (ReLU)             (None, 16, 16, 128)          0         ['batch_normalization_23[0][0]\n",
      "                                                                    ']                            \n",
      "                                                                                                  \n",
      " conv2d_24 (Conv2D)          (None, 16, 16, 512)          66048     ['re_lu_27[0][0]']            \n",
      "                                                                                                  \n",
      " batch_normalization_24 (Ba  (None, 16, 16, 512)          2048      ['conv2d_24[0][0]']           \n",
      " tchNormalization)                                                                                \n",
      "                                                                                                  \n",
      " re_lu_28 (ReLU)             (None, 16, 16, 512)          0         ['batch_normalization_24[0][0]\n",
      "                                                                    ']                            \n",
      "                                                                                                  \n",
      " add_6 (Add)                 (None, 16, 16, 512)          0         ['re_lu_28[0][0]',            \n",
      "                                                                     're_lu_25[0][0]']            \n",
      "                                                                                                  \n",
      " re_lu_29 (ReLU)             (None, 16, 16, 512)          0         ['add_6[0][0]']               \n",
      "                                                                                                  \n",
      " conv2d_25 (Conv2D)          (None, 8, 8, 256)            131328    ['re_lu_29[0][0]']            \n",
      "                                                                                                  \n",
      " batch_normalization_25 (Ba  (None, 8, 8, 256)            1024      ['conv2d_25[0][0]']           \n",
      " tchNormalization)                                                                                \n",
      "                                                                                                  \n",
      " re_lu_30 (ReLU)             (None, 8, 8, 256)            0         ['batch_normalization_25[0][0]\n",
      "                                                                    ']                            \n",
      "                                                                                                  \n",
      " conv2d_26 (Conv2D)          (None, 8, 8, 256)            590080    ['re_lu_30[0][0]']            \n",
      "                                                                                                  \n",
      " batch_normalization_26 (Ba  (None, 8, 8, 256)            1024      ['conv2d_26[0][0]']           \n",
      " tchNormalization)                                                                                \n",
      "                                                                                                  \n",
      " re_lu_31 (ReLU)             (None, 8, 8, 256)            0         ['batch_normalization_26[0][0]\n",
      "                                                                    ']                            \n",
      "                                                                                                  \n",
      " conv2d_27 (Conv2D)          (None, 8, 8, 1024)           263168    ['re_lu_31[0][0]']            \n",
      "                                                                                                  \n",
      " batch_normalization_27 (Ba  (None, 8, 8, 1024)           4096      ['conv2d_27[0][0]']           \n",
      " tchNormalization)                                                                                \n",
      "                                                                                                  \n",
      " conv2d_28 (Conv2D)          (None, 8, 8, 1024)           525312    ['re_lu_29[0][0]']            \n",
      "                                                                                                  \n",
      " re_lu_32 (ReLU)             (None, 8, 8, 1024)           0         ['batch_normalization_27[0][0]\n",
      "                                                                    ']                            \n",
      "                                                                                                  \n",
      " batch_normalization_28 (Ba  (None, 8, 8, 1024)           4096      ['conv2d_28[0][0]']           \n",
      " tchNormalization)                                                                                \n",
      "                                                                                                  \n",
      " add_7 (Add)                 (None, 8, 8, 1024)           0         ['re_lu_32[0][0]',            \n",
      "                                                                     'batch_normalization_28[0][0]\n",
      "                                                                    ']                            \n",
      "                                                                                                  \n",
      " re_lu_33 (ReLU)             (None, 8, 8, 1024)           0         ['add_7[0][0]']               \n",
      "                                                                                                  \n",
      " conv2d_29 (Conv2D)          (None, 8, 8, 256)            262400    ['re_lu_33[0][0]']            \n",
      "                                                                                                  \n",
      " batch_normalization_29 (Ba  (None, 8, 8, 256)            1024      ['conv2d_29[0][0]']           \n",
      " tchNormalization)                                                                                \n",
      "                                                                                                  \n",
      " re_lu_34 (ReLU)             (None, 8, 8, 256)            0         ['batch_normalization_29[0][0]\n",
      "                                                                    ']                            \n",
      "                                                                                                  \n",
      " conv2d_30 (Conv2D)          (None, 8, 8, 256)            590080    ['re_lu_34[0][0]']            \n",
      "                                                                                                  \n",
      " batch_normalization_30 (Ba  (None, 8, 8, 256)            1024      ['conv2d_30[0][0]']           \n",
      " tchNormalization)                                                                                \n",
      "                                                                                                  \n",
      " re_lu_35 (ReLU)             (None, 8, 8, 256)            0         ['batch_normalization_30[0][0]\n",
      "                                                                    ']                            \n",
      "                                                                                                  \n",
      " conv2d_31 (Conv2D)          (None, 8, 8, 1024)           263168    ['re_lu_35[0][0]']            \n",
      "                                                                                                  \n",
      " batch_normalization_31 (Ba  (None, 8, 8, 1024)           4096      ['conv2d_31[0][0]']           \n",
      " tchNormalization)                                                                                \n",
      "                                                                                                  \n",
      " re_lu_36 (ReLU)             (None, 8, 8, 1024)           0         ['batch_normalization_31[0][0]\n",
      "                                                                    ']                            \n",
      "                                                                                                  \n",
      " add_8 (Add)                 (None, 8, 8, 1024)           0         ['re_lu_36[0][0]',            \n",
      "                                                                     're_lu_33[0][0]']            \n",
      "                                                                                                  \n",
      " re_lu_37 (ReLU)             (None, 8, 8, 1024)           0         ['add_8[0][0]']               \n",
      "                                                                                                  \n",
      " conv2d_32 (Conv2D)          (None, 8, 8, 256)            262400    ['re_lu_37[0][0]']            \n",
      "                                                                                                  \n",
      " batch_normalization_32 (Ba  (None, 8, 8, 256)            1024      ['conv2d_32[0][0]']           \n",
      " tchNormalization)                                                                                \n",
      "                                                                                                  \n",
      " re_lu_38 (ReLU)             (None, 8, 8, 256)            0         ['batch_normalization_32[0][0]\n",
      "                                                                    ']                            \n",
      "                                                                                                  \n",
      " conv2d_33 (Conv2D)          (None, 8, 8, 256)            590080    ['re_lu_38[0][0]']            \n",
      "                                                                                                  \n",
      " batch_normalization_33 (Ba  (None, 8, 8, 256)            1024      ['conv2d_33[0][0]']           \n",
      " tchNormalization)                                                                                \n",
      "                                                                                                  \n",
      " re_lu_39 (ReLU)             (None, 8, 8, 256)            0         ['batch_normalization_33[0][0]\n",
      "                                                                    ']                            \n",
      "                                                                                                  \n",
      " conv2d_34 (Conv2D)          (None, 8, 8, 1024)           263168    ['re_lu_39[0][0]']            \n",
      "                                                                                                  \n",
      " batch_normalization_34 (Ba  (None, 8, 8, 1024)           4096      ['conv2d_34[0][0]']           \n",
      " tchNormalization)                                                                                \n",
      "                                                                                                  \n",
      " re_lu_40 (ReLU)             (None, 8, 8, 1024)           0         ['batch_normalization_34[0][0]\n",
      "                                                                    ']                            \n",
      "                                                                                                  \n",
      " add_9 (Add)                 (None, 8, 8, 1024)           0         ['re_lu_40[0][0]',            \n",
      "                                                                     're_lu_37[0][0]']            \n",
      "                                                                                                  \n",
      " re_lu_41 (ReLU)             (None, 8, 8, 1024)           0         ['add_9[0][0]']               \n",
      "                                                                                                  \n",
      " conv2d_35 (Conv2D)          (None, 8, 8, 256)            262400    ['re_lu_41[0][0]']            \n",
      "                                                                                                  \n",
      " batch_normalization_35 (Ba  (None, 8, 8, 256)            1024      ['conv2d_35[0][0]']           \n",
      " tchNormalization)                                                                                \n",
      "                                                                                                  \n",
      " re_lu_42 (ReLU)             (None, 8, 8, 256)            0         ['batch_normalization_35[0][0]\n",
      "                                                                    ']                            \n",
      "                                                                                                  \n",
      " conv2d_36 (Conv2D)          (None, 8, 8, 256)            590080    ['re_lu_42[0][0]']            \n",
      "                                                                                                  \n",
      " batch_normalization_36 (Ba  (None, 8, 8, 256)            1024      ['conv2d_36[0][0]']           \n",
      " tchNormalization)                                                                                \n",
      "                                                                                                  \n",
      " re_lu_43 (ReLU)             (None, 8, 8, 256)            0         ['batch_normalization_36[0][0]\n",
      "                                                                    ']                            \n",
      "                                                                                                  \n",
      " conv2d_37 (Conv2D)          (None, 8, 8, 1024)           263168    ['re_lu_43[0][0]']            \n",
      "                                                                                                  \n",
      " batch_normalization_37 (Ba  (None, 8, 8, 1024)           4096      ['conv2d_37[0][0]']           \n",
      " tchNormalization)                                                                                \n",
      "                                                                                                  \n",
      " re_lu_44 (ReLU)             (None, 8, 8, 1024)           0         ['batch_normalization_37[0][0]\n",
      "                                                                    ']                            \n",
      "                                                                                                  \n",
      " add_10 (Add)                (None, 8, 8, 1024)           0         ['re_lu_44[0][0]',            \n",
      "                                                                     're_lu_41[0][0]']            \n",
      "                                                                                                  \n",
      " re_lu_45 (ReLU)             (None, 8, 8, 1024)           0         ['add_10[0][0]']              \n",
      "                                                                                                  \n",
      " conv2d_38 (Conv2D)          (None, 8, 8, 256)            262400    ['re_lu_45[0][0]']            \n",
      "                                                                                                  \n",
      " batch_normalization_38 (Ba  (None, 8, 8, 256)            1024      ['conv2d_38[0][0]']           \n",
      " tchNormalization)                                                                                \n",
      "                                                                                                  \n",
      " re_lu_46 (ReLU)             (None, 8, 8, 256)            0         ['batch_normalization_38[0][0]\n",
      "                                                                    ']                            \n",
      "                                                                                                  \n",
      " conv2d_39 (Conv2D)          (None, 8, 8, 256)            590080    ['re_lu_46[0][0]']            \n",
      "                                                                                                  \n",
      " batch_normalization_39 (Ba  (None, 8, 8, 256)            1024      ['conv2d_39[0][0]']           \n",
      " tchNormalization)                                                                                \n",
      "                                                                                                  \n",
      " re_lu_47 (ReLU)             (None, 8, 8, 256)            0         ['batch_normalization_39[0][0]\n",
      "                                                                    ']                            \n",
      "                                                                                                  \n",
      " conv2d_40 (Conv2D)          (None, 8, 8, 1024)           263168    ['re_lu_47[0][0]']            \n",
      "                                                                                                  \n",
      " batch_normalization_40 (Ba  (None, 8, 8, 1024)           4096      ['conv2d_40[0][0]']           \n",
      " tchNormalization)                                                                                \n",
      "                                                                                                  \n",
      " re_lu_48 (ReLU)             (None, 8, 8, 1024)           0         ['batch_normalization_40[0][0]\n",
      "                                                                    ']                            \n",
      "                                                                                                  \n",
      " add_11 (Add)                (None, 8, 8, 1024)           0         ['re_lu_48[0][0]',            \n",
      "                                                                     're_lu_45[0][0]']            \n",
      "                                                                                                  \n",
      " re_lu_49 (ReLU)             (None, 8, 8, 1024)           0         ['add_11[0][0]']              \n",
      "                                                                                                  \n",
      " conv2d_41 (Conv2D)          (None, 8, 8, 256)            262400    ['re_lu_49[0][0]']            \n",
      "                                                                                                  \n",
      " batch_normalization_41 (Ba  (None, 8, 8, 256)            1024      ['conv2d_41[0][0]']           \n",
      " tchNormalization)                                                                                \n",
      "                                                                                                  \n",
      " re_lu_50 (ReLU)             (None, 8, 8, 256)            0         ['batch_normalization_41[0][0]\n",
      "                                                                    ']                            \n",
      "                                                                                                  \n",
      " conv2d_42 (Conv2D)          (None, 8, 8, 256)            590080    ['re_lu_50[0][0]']            \n",
      "                                                                                                  \n",
      " batch_normalization_42 (Ba  (None, 8, 8, 256)            1024      ['conv2d_42[0][0]']           \n",
      " tchNormalization)                                                                                \n",
      "                                                                                                  \n",
      " re_lu_51 (ReLU)             (None, 8, 8, 256)            0         ['batch_normalization_42[0][0]\n",
      "                                                                    ']                            \n",
      "                                                                                                  \n",
      " conv2d_43 (Conv2D)          (None, 8, 8, 1024)           263168    ['re_lu_51[0][0]']            \n",
      "                                                                                                  \n",
      " batch_normalization_43 (Ba  (None, 8, 8, 1024)           4096      ['conv2d_43[0][0]']           \n",
      " tchNormalization)                                                                                \n",
      "                                                                                                  \n",
      " re_lu_52 (ReLU)             (None, 8, 8, 1024)           0         ['batch_normalization_43[0][0]\n",
      "                                                                    ']                            \n",
      "                                                                                                  \n",
      " add_12 (Add)                (None, 8, 8, 1024)           0         ['re_lu_52[0][0]',            \n",
      "                                                                     're_lu_49[0][0]']            \n",
      "                                                                                                  \n",
      " re_lu_53 (ReLU)             (None, 8, 8, 1024)           0         ['add_12[0][0]']              \n",
      "                                                                                                  \n",
      " conv2d_44 (Conv2D)          (None, 4, 4, 512)            524800    ['re_lu_53[0][0]']            \n",
      "                                                                                                  \n",
      " batch_normalization_44 (Ba  (None, 4, 4, 512)            2048      ['conv2d_44[0][0]']           \n",
      " tchNormalization)                                                                                \n",
      "                                                                                                  \n",
      " re_lu_54 (ReLU)             (None, 4, 4, 512)            0         ['batch_normalization_44[0][0]\n",
      "                                                                    ']                            \n",
      "                                                                                                  \n",
      " conv2d_45 (Conv2D)          (None, 4, 4, 512)            2359808   ['re_lu_54[0][0]']            \n",
      "                                                                                                  \n",
      " batch_normalization_45 (Ba  (None, 4, 4, 512)            2048      ['conv2d_45[0][0]']           \n",
      " tchNormalization)                                                                                \n",
      "                                                                                                  \n",
      " re_lu_55 (ReLU)             (None, 4, 4, 512)            0         ['batch_normalization_45[0][0]\n",
      "                                                                    ']                            \n",
      "                                                                                                  \n",
      " conv2d_46 (Conv2D)          (None, 4, 4, 2048)           1050624   ['re_lu_55[0][0]']            \n",
      "                                                                                                  \n",
      " batch_normalization_46 (Ba  (None, 4, 4, 2048)           8192      ['conv2d_46[0][0]']           \n",
      " tchNormalization)                                                                                \n",
      "                                                                                                  \n",
      " conv2d_47 (Conv2D)          (None, 4, 4, 2048)           2099200   ['re_lu_53[0][0]']            \n",
      "                                                                                                  \n",
      " re_lu_56 (ReLU)             (None, 4, 4, 2048)           0         ['batch_normalization_46[0][0]\n",
      "                                                                    ']                            \n",
      "                                                                                                  \n",
      " batch_normalization_47 (Ba  (None, 4, 4, 2048)           8192      ['conv2d_47[0][0]']           \n",
      " tchNormalization)                                                                                \n",
      "                                                                                                  \n",
      " add_13 (Add)                (None, 4, 4, 2048)           0         ['re_lu_56[0][0]',            \n",
      "                                                                     'batch_normalization_47[0][0]\n",
      "                                                                    ']                            \n",
      "                                                                                                  \n",
      " re_lu_57 (ReLU)             (None, 4, 4, 2048)           0         ['add_13[0][0]']              \n",
      "                                                                                                  \n",
      " conv2d_48 (Conv2D)          (None, 4, 4, 512)            1049088   ['re_lu_57[0][0]']            \n",
      "                                                                                                  \n",
      " batch_normalization_48 (Ba  (None, 4, 4, 512)            2048      ['conv2d_48[0][0]']           \n",
      " tchNormalization)                                                                                \n",
      "                                                                                                  \n",
      " re_lu_58 (ReLU)             (None, 4, 4, 512)            0         ['batch_normalization_48[0][0]\n",
      "                                                                    ']                            \n",
      "                                                                                                  \n",
      " conv2d_49 (Conv2D)          (None, 4, 4, 512)            2359808   ['re_lu_58[0][0]']            \n",
      "                                                                                                  \n",
      " batch_normalization_49 (Ba  (None, 4, 4, 512)            2048      ['conv2d_49[0][0]']           \n",
      " tchNormalization)                                                                                \n",
      "                                                                                                  \n",
      " re_lu_59 (ReLU)             (None, 4, 4, 512)            0         ['batch_normalization_49[0][0]\n",
      "                                                                    ']                            \n",
      "                                                                                                  \n",
      " conv2d_50 (Conv2D)          (None, 4, 4, 2048)           1050624   ['re_lu_59[0][0]']            \n",
      "                                                                                                  \n",
      " batch_normalization_50 (Ba  (None, 4, 4, 2048)           8192      ['conv2d_50[0][0]']           \n",
      " tchNormalization)                                                                                \n",
      "                                                                                                  \n",
      " re_lu_60 (ReLU)             (None, 4, 4, 2048)           0         ['batch_normalization_50[0][0]\n",
      "                                                                    ']                            \n",
      "                                                                                                  \n",
      " add_14 (Add)                (None, 4, 4, 2048)           0         ['re_lu_60[0][0]',            \n",
      "                                                                     're_lu_57[0][0]']            \n",
      "                                                                                                  \n",
      " re_lu_61 (ReLU)             (None, 4, 4, 2048)           0         ['add_14[0][0]']              \n",
      "                                                                                                  \n",
      " conv2d_51 (Conv2D)          (None, 4, 4, 512)            1049088   ['re_lu_61[0][0]']            \n",
      "                                                                                                  \n",
      " batch_normalization_51 (Ba  (None, 4, 4, 512)            2048      ['conv2d_51[0][0]']           \n",
      " tchNormalization)                                                                                \n",
      "                                                                                                  \n",
      " re_lu_62 (ReLU)             (None, 4, 4, 512)            0         ['batch_normalization_51[0][0]\n",
      "                                                                    ']                            \n",
      "                                                                                                  \n",
      " conv2d_52 (Conv2D)          (None, 4, 4, 512)            2359808   ['re_lu_62[0][0]']            \n",
      "                                                                                                  \n",
      " batch_normalization_52 (Ba  (None, 4, 4, 512)            2048      ['conv2d_52[0][0]']           \n",
      " tchNormalization)                                                                                \n",
      "                                                                                                  \n",
      " re_lu_63 (ReLU)             (None, 4, 4, 512)            0         ['batch_normalization_52[0][0]\n",
      "                                                                    ']                            \n",
      "                                                                                                  \n",
      " conv2d_53 (Conv2D)          (None, 4, 4, 2048)           1050624   ['re_lu_63[0][0]']            \n",
      "                                                                                                  \n",
      " batch_normalization_53 (Ba  (None, 4, 4, 2048)           8192      ['conv2d_53[0][0]']           \n",
      " tchNormalization)                                                                                \n",
      "                                                                                                  \n",
      " re_lu_64 (ReLU)             (None, 4, 4, 2048)           0         ['batch_normalization_53[0][0]\n",
      "                                                                    ']                            \n",
      "                                                                                                  \n",
      " add_15 (Add)                (None, 4, 4, 2048)           0         ['re_lu_64[0][0]',            \n",
      "                                                                     're_lu_61[0][0]']            \n",
      "                                                                                                  \n",
      " re_lu_65 (ReLU)             (None, 4, 4, 2048)           0         ['add_15[0][0]']              \n",
      "                                                                                                  \n",
      " average_pooling2d (Average  (None, 2, 2, 2048)           0         ['re_lu_65[0][0]']            \n",
      " Pooling2D)                                                                                       \n",
      "                                                                                                  \n",
      " flatten (Flatten)           (None, 8192)                 0         ['average_pooling2d[0][0]']   \n",
      "                                                                                                  \n",
      " dense (Dense)               (None, 4)                    32772     ['flatten[0][0]']             \n",
      "                                                                                                  \n",
      "==================================================================================================\n",
      "Total params: 23620484 (90.10 MB)\n",
      "Trainable params: 23567364 (89.90 MB)\n",
      "Non-trainable params: 53120 (207.50 KB)\n",
      "__________________________________________________________________________________________________\n"
     ]
    }
   ],
   "source": [
    "model.summary()"
   ]
  },
  {
   "cell_type": "code",
   "execution_count": null,
   "id": "4a62acae-7c3e-44eb-b7c5-d59a514917b9",
   "metadata": {},
   "outputs": [],
   "source": []
  }
 ],
 "metadata": {
  "kernelspec": {
   "display_name": "Python 3 (ipykernel)",
   "language": "python",
   "name": "python3"
  },
  "language_info": {
   "codemirror_mode": {
    "name": "ipython",
    "version": 3
   },
   "file_extension": ".py",
   "mimetype": "text/x-python",
   "name": "python",
   "nbconvert_exporter": "python",
   "pygments_lexer": "ipython3",
   "version": "3.11.5"
  }
 },
 "nbformat": 4,
 "nbformat_minor": 5
}
