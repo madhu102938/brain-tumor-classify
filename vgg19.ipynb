{
 "cells": [
  {
   "cell_type": "code",
   "execution_count": 1,
   "id": "c1879e10-8df3-4f8c-9cd9-7f0e737ed9a6",
   "metadata": {
    "tags": []
   },
   "outputs": [
    {
     "name": "stdout",
     "output_type": "stream",
     "text": [
      "WARNING:tensorflow:From C:\\Users\\maddi\\anaconda3\\Lib\\site-packages\\keras\\src\\losses.py:2976: The name tf.losses.sparse_softmax_cross_entropy is deprecated. Please use tf.compat.v1.losses.sparse_softmax_cross_entropy instead.\n",
      "\n"
     ]
    }
   ],
   "source": [
    "import tensorflow as tf\n",
    "import numpy as np\n",
    "import matplotlib.pyplot as plt"
   ]
  },
  {
   "cell_type": "code",
   "execution_count": 2,
   "id": "cb5e5f49-5099-4a72-8725-0e0967b30fdd",
   "metadata": {
    "tags": []
   },
   "outputs": [],
   "source": [
    "image_size = (128, 128)\n",
    "batch_size = 32"
   ]
  },
  {
   "cell_type": "code",
   "execution_count": 5,
   "id": "ccbbf2f6-aa4a-486a-bdc7-21f8a2f786da",
   "metadata": {
    "tags": []
   },
   "outputs": [],
   "source": [
    "vgg_model = tf.keras.applications.VGG19(include_top=False,\n",
    "                                       weights=None,\n",
    "                                       input_shape=(128,128,3))"
   ]
  },
  {
   "cell_type": "code",
   "execution_count": 3,
   "id": "3ceec89a-b934-40fa-9afb-cfe2546b11fe",
   "metadata": {
    "collapsed": true,
    "jupyter": {
     "outputs_hidden": true
    },
    "tags": []
   },
   "outputs": [
    {
     "name": "stdout",
     "output_type": "stream",
     "text": [
      "Model: \"vgg19\"\n",
      "_________________________________________________________________\n",
      " Layer (type)                Output Shape              Param #   \n",
      "=================================================================\n",
      " input_1 (InputLayer)        [(None, 128, 128, 3)]     0         \n",
      "                                                                 \n",
      " block1_conv1 (Conv2D)       (None, 128, 128, 64)      1792      \n",
      "                                                                 \n",
      " block1_conv2 (Conv2D)       (None, 128, 128, 64)      36928     \n",
      "                                                                 \n",
      " block1_pool (MaxPooling2D)  (None, 64, 64, 64)        0         \n",
      "                                                                 \n",
      " block2_conv1 (Conv2D)       (None, 64, 64, 128)       73856     \n",
      "                                                                 \n",
      " block2_conv2 (Conv2D)       (None, 64, 64, 128)       147584    \n",
      "                                                                 \n",
      " block2_pool (MaxPooling2D)  (None, 32, 32, 128)       0         \n",
      "                                                                 \n",
      " block3_conv1 (Conv2D)       (None, 32, 32, 256)       295168    \n",
      "                                                                 \n",
      " block3_conv2 (Conv2D)       (None, 32, 32, 256)       590080    \n",
      "                                                                 \n",
      " block3_conv3 (Conv2D)       (None, 32, 32, 256)       590080    \n",
      "                                                                 \n",
      " block3_conv4 (Conv2D)       (None, 32, 32, 256)       590080    \n",
      "                                                                 \n",
      " block3_pool (MaxPooling2D)  (None, 16, 16, 256)       0         \n",
      "                                                                 \n",
      " block4_conv1 (Conv2D)       (None, 16, 16, 512)       1180160   \n",
      "                                                                 \n",
      " block4_conv2 (Conv2D)       (None, 16, 16, 512)       2359808   \n",
      "                                                                 \n",
      " block4_conv3 (Conv2D)       (None, 16, 16, 512)       2359808   \n",
      "                                                                 \n",
      " block4_conv4 (Conv2D)       (None, 16, 16, 512)       2359808   \n",
      "                                                                 \n",
      " block4_pool (MaxPooling2D)  (None, 8, 8, 512)         0         \n",
      "                                                                 \n",
      " block5_conv1 (Conv2D)       (None, 8, 8, 512)         2359808   \n",
      "                                                                 \n",
      " block5_conv2 (Conv2D)       (None, 8, 8, 512)         2359808   \n",
      "                                                                 \n",
      " block5_conv3 (Conv2D)       (None, 8, 8, 512)         2359808   \n",
      "                                                                 \n",
      " block5_conv4 (Conv2D)       (None, 8, 8, 512)         2359808   \n",
      "                                                                 \n",
      " block5_pool (MaxPooling2D)  (None, 4, 4, 512)         0         \n",
      "                                                                 \n",
      "=================================================================\n",
      "Total params: 20024384 (76.39 MB)\n",
      "Trainable params: 20024384 (76.39 MB)\n",
      "Non-trainable params: 0 (0.00 Byte)\n",
      "_________________________________________________________________\n"
     ]
    }
   ],
   "source": [
    "vgg_model.summary()"
   ]
  },
  {
   "cell_type": "code",
   "execution_count": 6,
   "id": "d4c48dd3-f6c7-4e42-9aeb-89c613dacecb",
   "metadata": {
    "tags": []
   },
   "outputs": [
    {
     "data": {
      "text/plain": [
       "22"
      ]
     },
     "execution_count": 6,
     "metadata": {},
     "output_type": "execute_result"
    }
   ],
   "source": [
    "len(vgg_model.layers)"
   ]
  },
  {
   "cell_type": "code",
   "execution_count": 5,
   "id": "f52f9753-a0dd-4e84-8a85-acf7aa8409a9",
   "metadata": {
    "tags": []
   },
   "outputs": [],
   "source": [
    "fine_tune_layer = 7"
   ]
  },
  {
   "cell_type": "code",
   "execution_count": 7,
   "id": "f7cd8b75-474d-4306-880e-11c453e9f88f",
   "metadata": {
    "tags": []
   },
   "outputs": [],
   "source": [
    "vgg_model.trainable = True"
   ]
  },
  {
   "cell_type": "code",
   "execution_count": 7,
   "id": "9494ea9b-a0aa-4a38-be5a-5589e685aa8c",
   "metadata": {
    "collapsed": true,
    "jupyter": {
     "outputs_hidden": true
    },
    "tags": []
   },
   "outputs": [
    {
     "name": "stdout",
     "output_type": "stream",
     "text": [
      "FREEZING LAYER: <keras.src.engine.input_layer.InputLayer object at 0x000001F0914F8FD0>\n",
      "FREEZING LAYER: <keras.src.layers.convolutional.conv2d.Conv2D object at 0x000001F09EB5C410>\n",
      "FREEZING LAYER: <keras.src.layers.convolutional.conv2d.Conv2D object at 0x000001F09EC36CD0>\n",
      "FREEZING LAYER: <keras.src.layers.pooling.max_pooling2d.MaxPooling2D object at 0x000001F09ED0BB10>\n",
      "FREEZING LAYER: <keras.src.layers.convolutional.conv2d.Conv2D object at 0x000001F09E992B10>\n",
      "FREEZING LAYER: <keras.src.layers.convolutional.conv2d.Conv2D object at 0x000001F09EB5F610>\n",
      "FREEZING LAYER: <keras.src.layers.pooling.max_pooling2d.MaxPooling2D object at 0x000001F09ED27F50>\n",
      "FREEZING LAYER: <keras.src.layers.convolutional.conv2d.Conv2D object at 0x000001F09ED277D0>\n",
      "FREEZING LAYER: <keras.src.layers.convolutional.conv2d.Conv2D object at 0x000001F09EB55410>\n",
      "FREEZING LAYER: <keras.src.layers.convolutional.conv2d.Conv2D object at 0x000001F09EC07F10>\n",
      "FREEZING LAYER: <keras.src.layers.convolutional.conv2d.Conv2D object at 0x000001F09EABB410>\n",
      "FREEZING LAYER: <keras.src.layers.pooling.max_pooling2d.MaxPooling2D object at 0x000001F09ED0AD50>\n",
      "FREEZING LAYER: <keras.src.layers.convolutional.conv2d.Conv2D object at 0x000001F09ED7A650>\n",
      "FREEZING LAYER: <keras.src.layers.convolutional.conv2d.Conv2D object at 0x000001F09EC353D0>\n",
      "FREEZING LAYER: <keras.src.layers.convolutional.conv2d.Conv2D object at 0x000001F09EB965D0>\n"
     ]
    }
   ],
   "source": [
    "for model_layer in vgg_model.layers[:len(vgg_model.layers) - fine_tune_layer]:\n",
    "    print(f\"FREEZING LAYER: {model_layer}\")\n",
    "    model_layer.trainable = False"
   ]
  },
  {
   "cell_type": "code",
   "execution_count": 8,
   "id": "f7746f8f-508e-4311-979f-77cc45cc81b9",
   "metadata": {
    "tags": []
   },
   "outputs": [
    {
     "name": "stdout",
     "output_type": "stream",
     "text": [
      "Model: \"vgg19\"\n",
      "____________________________________________________________________________\n",
      " Layer (type)                Output Shape              Param #   Trainable  \n",
      "============================================================================\n",
      " input_2 (InputLayer)        [(None, 128, 128, 3)]     0         Y          \n",
      "                                                                            \n",
      " block1_conv1 (Conv2D)       (None, 128, 128, 64)      1792      Y          \n",
      "                                                                            \n",
      " block1_conv2 (Conv2D)       (None, 128, 128, 64)      36928     Y          \n",
      "                                                                            \n",
      " block1_pool (MaxPooling2D)  (None, 64, 64, 64)        0         Y          \n",
      "                                                                            \n",
      " block2_conv1 (Conv2D)       (None, 64, 64, 128)       73856     Y          \n",
      "                                                                            \n",
      " block2_conv2 (Conv2D)       (None, 64, 64, 128)       147584    Y          \n",
      "                                                                            \n",
      " block2_pool (MaxPooling2D)  (None, 32, 32, 128)       0         Y          \n",
      "                                                                            \n",
      " block3_conv1 (Conv2D)       (None, 32, 32, 256)       295168    Y          \n",
      "                                                                            \n",
      " block3_conv2 (Conv2D)       (None, 32, 32, 256)       590080    Y          \n",
      "                                                                            \n",
      " block3_conv3 (Conv2D)       (None, 32, 32, 256)       590080    Y          \n",
      "                                                                            \n",
      " block3_conv4 (Conv2D)       (None, 32, 32, 256)       590080    Y          \n",
      "                                                                            \n",
      " block3_pool (MaxPooling2D)  (None, 16, 16, 256)       0         Y          \n",
      "                                                                            \n",
      " block4_conv1 (Conv2D)       (None, 16, 16, 512)       1180160   Y          \n",
      "                                                                            \n",
      " block4_conv2 (Conv2D)       (None, 16, 16, 512)       2359808   Y          \n",
      "                                                                            \n",
      " block4_conv3 (Conv2D)       (None, 16, 16, 512)       2359808   Y          \n",
      "                                                                            \n",
      " block4_conv4 (Conv2D)       (None, 16, 16, 512)       2359808   Y          \n",
      "                                                                            \n",
      " block4_pool (MaxPooling2D)  (None, 8, 8, 512)         0         Y          \n",
      "                                                                            \n",
      " block5_conv1 (Conv2D)       (None, 8, 8, 512)         2359808   Y          \n",
      "                                                                            \n",
      " block5_conv2 (Conv2D)       (None, 8, 8, 512)         2359808   Y          \n",
      "                                                                            \n",
      " block5_conv3 (Conv2D)       (None, 8, 8, 512)         2359808   Y          \n",
      "                                                                            \n",
      " block5_conv4 (Conv2D)       (None, 8, 8, 512)         2359808   Y          \n",
      "                                                                            \n",
      " block5_pool (MaxPooling2D)  (None, 4, 4, 512)         0         Y          \n",
      "                                                                            \n",
      "============================================================================\n",
      "Total params: 20024384 (76.39 MB)\n",
      "Trainable params: 20024384 (76.39 MB)\n",
      "Non-trainable params: 0 (0.00 Byte)\n",
      "____________________________________________________________________________\n"
     ]
    }
   ],
   "source": [
    "vgg_model.summary(show_trainable=True)"
   ]
  },
  {
   "cell_type": "code",
   "execution_count": 9,
   "id": "346d349c-2262-4030-b810-e0d09ac9e093",
   "metadata": {
    "tags": []
   },
   "outputs": [
    {
     "name": "stdout",
     "output_type": "stream",
     "text": [
      "Found 5712 files belonging to 4 classes.\n",
      "Using 4570 files for training.\n"
     ]
    }
   ],
   "source": [
    "train_data = tf.keras.utils.image_dataset_from_directory('Training/', \n",
    "                                                        image_size=image_size,\n",
    "                                                        validation_split=0.2,\n",
    "                                                        subset='training',\n",
    "                                                        shuffle=True,\n",
    "                                                        seed=10)"
   ]
  },
  {
   "cell_type": "code",
   "execution_count": 10,
   "id": "fcf1f467-a1bb-4a5e-89c1-e4c61499f162",
   "metadata": {
    "tags": []
   },
   "outputs": [
    {
     "name": "stdout",
     "output_type": "stream",
     "text": [
      "Found 5712 files belonging to 4 classes.\n",
      "Using 1142 files for validation.\n"
     ]
    }
   ],
   "source": [
    "val_data = tf.keras.utils.image_dataset_from_directory('Training/',\n",
    "                                                      image_size=image_size,\n",
    "                                                      validation_split=0.2,\n",
    "                                                      subset='validation',\n",
    "                                                      shuffle=True,\n",
    "                                                      seed=10)"
   ]
  },
  {
   "cell_type": "code",
   "execution_count": 11,
   "id": "3a1f8637-0971-418e-9933-8a68fb98bb64",
   "metadata": {
    "tags": []
   },
   "outputs": [
    {
     "name": "stdout",
     "output_type": "stream",
     "text": [
      "Found 1311 files belonging to 4 classes.\n"
     ]
    }
   ],
   "source": [
    "test_data = tf.keras.utils.image_dataset_from_directory('Testing/',\n",
    "                                                       image_size=image_size,\n",
    "                                                       batch_size=32,\n",
    "                                                       shuffle=False,\n",
    "                                                       seed=10)"
   ]
  },
  {
   "cell_type": "code",
   "execution_count": 12,
   "id": "107701e2-cfe6-41fc-99c6-6a08d9fed83d",
   "metadata": {
    "tags": []
   },
   "outputs": [],
   "source": [
    "rescale_fn = tf.keras.layers.Rescaling(scale=1./255)\n",
    "\n",
    "train_data = train_data.map(lambda x, y: (rescale_fn(x), y))\n",
    "val_data = val_data.map(lambda x, y: (rescale_fn(x), y))\n",
    "test_data = test_data.map(lambda x, y: (rescale_fn(x), y))"
   ]
  },
  {
   "cell_type": "code",
   "execution_count": 13,
   "id": "5ecbe1e0-d61b-4768-8b02-3be611180aa5",
   "metadata": {
    "tags": []
   },
   "outputs": [],
   "source": [
    "cnn = tf.keras.Sequential([\n",
    "    vgg_model,\n",
    "    tf.keras.layers.Flatten(),\n",
    "    tf.keras.layers.Dense(128, activation='relu'),\n",
    "    tf.keras.layers.Dense(4, activation='softmax')\n",
    "])"
   ]
  },
  {
   "cell_type": "code",
   "execution_count": 15,
   "id": "717ddd50-f9d7-495b-ab36-17865fe94083",
   "metadata": {
    "tags": []
   },
   "outputs": [],
   "source": [
    "cnn.compile(optimizer = 'adam',   \n",
    "            loss=tf.keras.losses.SparseCategoricalCrossentropy(), \n",
    "            metrics = ['accuracy', 'mse'])"
   ]
  },
  {
   "cell_type": "code",
   "execution_count": 16,
   "id": "5b768262-05f1-434d-a1b6-34a19fb9e102",
   "metadata": {
    "collapsed": true,
    "jupyter": {
     "outputs_hidden": true
    },
    "tags": []
   },
   "outputs": [
    {
     "name": "stdout",
     "output_type": "stream",
     "text": [
      "Epoch 1/15\n",
      "WARNING:tensorflow:From C:\\Users\\maddi\\anaconda3\\Lib\\site-packages\\keras\\src\\utils\\tf_utils.py:492: The name tf.ragged.RaggedTensorValue is deprecated. Please use tf.compat.v1.ragged.RaggedTensorValue instead.\n",
      "\n",
      "WARNING:tensorflow:From C:\\Users\\maddi\\anaconda3\\Lib\\site-packages\\keras\\src\\engine\\base_layer_utils.py:384: The name tf.executing_eagerly_outside_functions is deprecated. Please use tf.compat.v1.executing_eagerly_outside_functions instead.\n",
      "\n",
      " 25/143 [====>.........................] - ETA: 9:29 - loss: 1.3896 - accuracy: 0.2600 - mse: 2.8094"
     ]
    },
    {
     "ename": "KeyboardInterrupt",
     "evalue": "",
     "output_type": "error",
     "traceback": [
      "\u001b[1;31m---------------------------------------------------------------------------\u001b[0m",
      "\u001b[1;31mKeyboardInterrupt\u001b[0m                         Traceback (most recent call last)",
      "Cell \u001b[1;32mIn[16], line 1\u001b[0m\n\u001b[1;32m----> 1\u001b[0m history \u001b[38;5;241m=\u001b[39m cnn\u001b[38;5;241m.\u001b[39mfit(train_data,\n\u001b[0;32m      2\u001b[0m        validation_data\u001b[38;5;241m=\u001b[39mval_data,\n\u001b[0;32m      3\u001b[0m        epochs\u001b[38;5;241m=\u001b[39m\u001b[38;5;241m15\u001b[39m)\n",
      "File \u001b[1;32m~\\anaconda3\\Lib\\site-packages\\keras\\src\\utils\\traceback_utils.py:65\u001b[0m, in \u001b[0;36mfilter_traceback.<locals>.error_handler\u001b[1;34m(*args, **kwargs)\u001b[0m\n\u001b[0;32m     63\u001b[0m filtered_tb \u001b[38;5;241m=\u001b[39m \u001b[38;5;28;01mNone\u001b[39;00m\n\u001b[0;32m     64\u001b[0m \u001b[38;5;28;01mtry\u001b[39;00m:\n\u001b[1;32m---> 65\u001b[0m     \u001b[38;5;28;01mreturn\u001b[39;00m fn(\u001b[38;5;241m*\u001b[39margs, \u001b[38;5;241m*\u001b[39m\u001b[38;5;241m*\u001b[39mkwargs)\n\u001b[0;32m     66\u001b[0m \u001b[38;5;28;01mexcept\u001b[39;00m \u001b[38;5;167;01mException\u001b[39;00m \u001b[38;5;28;01mas\u001b[39;00m e:\n\u001b[0;32m     67\u001b[0m     filtered_tb \u001b[38;5;241m=\u001b[39m _process_traceback_frames(e\u001b[38;5;241m.\u001b[39m__traceback__)\n",
      "File \u001b[1;32m~\\anaconda3\\Lib\\site-packages\\keras\\src\\engine\\training.py:1807\u001b[0m, in \u001b[0;36mModel.fit\u001b[1;34m(self, x, y, batch_size, epochs, verbose, callbacks, validation_split, validation_data, shuffle, class_weight, sample_weight, initial_epoch, steps_per_epoch, validation_steps, validation_batch_size, validation_freq, max_queue_size, workers, use_multiprocessing)\u001b[0m\n\u001b[0;32m   1799\u001b[0m \u001b[38;5;28;01mwith\u001b[39;00m tf\u001b[38;5;241m.\u001b[39mprofiler\u001b[38;5;241m.\u001b[39mexperimental\u001b[38;5;241m.\u001b[39mTrace(\n\u001b[0;32m   1800\u001b[0m     \u001b[38;5;124m\"\u001b[39m\u001b[38;5;124mtrain\u001b[39m\u001b[38;5;124m\"\u001b[39m,\n\u001b[0;32m   1801\u001b[0m     epoch_num\u001b[38;5;241m=\u001b[39mepoch,\n\u001b[1;32m   (...)\u001b[0m\n\u001b[0;32m   1804\u001b[0m     _r\u001b[38;5;241m=\u001b[39m\u001b[38;5;241m1\u001b[39m,\n\u001b[0;32m   1805\u001b[0m ):\n\u001b[0;32m   1806\u001b[0m     callbacks\u001b[38;5;241m.\u001b[39mon_train_batch_begin(step)\n\u001b[1;32m-> 1807\u001b[0m     tmp_logs \u001b[38;5;241m=\u001b[39m \u001b[38;5;28mself\u001b[39m\u001b[38;5;241m.\u001b[39mtrain_function(iterator)\n\u001b[0;32m   1808\u001b[0m     \u001b[38;5;28;01mif\u001b[39;00m data_handler\u001b[38;5;241m.\u001b[39mshould_sync:\n\u001b[0;32m   1809\u001b[0m         context\u001b[38;5;241m.\u001b[39masync_wait()\n",
      "File \u001b[1;32m~\\anaconda3\\Lib\\site-packages\\tensorflow\\python\\util\\traceback_utils.py:150\u001b[0m, in \u001b[0;36mfilter_traceback.<locals>.error_handler\u001b[1;34m(*args, **kwargs)\u001b[0m\n\u001b[0;32m    148\u001b[0m filtered_tb \u001b[38;5;241m=\u001b[39m \u001b[38;5;28;01mNone\u001b[39;00m\n\u001b[0;32m    149\u001b[0m \u001b[38;5;28;01mtry\u001b[39;00m:\n\u001b[1;32m--> 150\u001b[0m   \u001b[38;5;28;01mreturn\u001b[39;00m fn(\u001b[38;5;241m*\u001b[39margs, \u001b[38;5;241m*\u001b[39m\u001b[38;5;241m*\u001b[39mkwargs)\n\u001b[0;32m    151\u001b[0m \u001b[38;5;28;01mexcept\u001b[39;00m \u001b[38;5;167;01mException\u001b[39;00m \u001b[38;5;28;01mas\u001b[39;00m e:\n\u001b[0;32m    152\u001b[0m   filtered_tb \u001b[38;5;241m=\u001b[39m _process_traceback_frames(e\u001b[38;5;241m.\u001b[39m__traceback__)\n",
      "File \u001b[1;32m~\\anaconda3\\Lib\\site-packages\\tensorflow\\python\\eager\\polymorphic_function\\polymorphic_function.py:832\u001b[0m, in \u001b[0;36mFunction.__call__\u001b[1;34m(self, *args, **kwds)\u001b[0m\n\u001b[0;32m    829\u001b[0m compiler \u001b[38;5;241m=\u001b[39m \u001b[38;5;124m\"\u001b[39m\u001b[38;5;124mxla\u001b[39m\u001b[38;5;124m\"\u001b[39m \u001b[38;5;28;01mif\u001b[39;00m \u001b[38;5;28mself\u001b[39m\u001b[38;5;241m.\u001b[39m_jit_compile \u001b[38;5;28;01melse\u001b[39;00m \u001b[38;5;124m\"\u001b[39m\u001b[38;5;124mnonXla\u001b[39m\u001b[38;5;124m\"\u001b[39m\n\u001b[0;32m    831\u001b[0m \u001b[38;5;28;01mwith\u001b[39;00m OptionalXlaContext(\u001b[38;5;28mself\u001b[39m\u001b[38;5;241m.\u001b[39m_jit_compile):\n\u001b[1;32m--> 832\u001b[0m   result \u001b[38;5;241m=\u001b[39m \u001b[38;5;28mself\u001b[39m\u001b[38;5;241m.\u001b[39m_call(\u001b[38;5;241m*\u001b[39margs, \u001b[38;5;241m*\u001b[39m\u001b[38;5;241m*\u001b[39mkwds)\n\u001b[0;32m    834\u001b[0m new_tracing_count \u001b[38;5;241m=\u001b[39m \u001b[38;5;28mself\u001b[39m\u001b[38;5;241m.\u001b[39mexperimental_get_tracing_count()\n\u001b[0;32m    835\u001b[0m without_tracing \u001b[38;5;241m=\u001b[39m (tracing_count \u001b[38;5;241m==\u001b[39m new_tracing_count)\n",
      "File \u001b[1;32m~\\anaconda3\\Lib\\site-packages\\tensorflow\\python\\eager\\polymorphic_function\\polymorphic_function.py:868\u001b[0m, in \u001b[0;36mFunction._call\u001b[1;34m(self, *args, **kwds)\u001b[0m\n\u001b[0;32m    865\u001b[0m   \u001b[38;5;28mself\u001b[39m\u001b[38;5;241m.\u001b[39m_lock\u001b[38;5;241m.\u001b[39mrelease()\n\u001b[0;32m    866\u001b[0m   \u001b[38;5;66;03m# In this case we have created variables on the first call, so we run the\u001b[39;00m\n\u001b[0;32m    867\u001b[0m   \u001b[38;5;66;03m# defunned version which is guaranteed to never create variables.\u001b[39;00m\n\u001b[1;32m--> 868\u001b[0m   \u001b[38;5;28;01mreturn\u001b[39;00m tracing_compilation\u001b[38;5;241m.\u001b[39mcall_function(\n\u001b[0;32m    869\u001b[0m       args, kwds, \u001b[38;5;28mself\u001b[39m\u001b[38;5;241m.\u001b[39m_no_variable_creation_config\n\u001b[0;32m    870\u001b[0m   )\n\u001b[0;32m    871\u001b[0m \u001b[38;5;28;01melif\u001b[39;00m \u001b[38;5;28mself\u001b[39m\u001b[38;5;241m.\u001b[39m_variable_creation_config \u001b[38;5;129;01mis\u001b[39;00m \u001b[38;5;129;01mnot\u001b[39;00m \u001b[38;5;28;01mNone\u001b[39;00m:\n\u001b[0;32m    872\u001b[0m   \u001b[38;5;66;03m# Release the lock early so that multiple threads can perform the call\u001b[39;00m\n\u001b[0;32m    873\u001b[0m   \u001b[38;5;66;03m# in parallel.\u001b[39;00m\n\u001b[0;32m    874\u001b[0m   \u001b[38;5;28mself\u001b[39m\u001b[38;5;241m.\u001b[39m_lock\u001b[38;5;241m.\u001b[39mrelease()\n",
      "File \u001b[1;32m~\\anaconda3\\Lib\\site-packages\\tensorflow\\python\\eager\\polymorphic_function\\tracing_compilation.py:139\u001b[0m, in \u001b[0;36mcall_function\u001b[1;34m(args, kwargs, tracing_options)\u001b[0m\n\u001b[0;32m    137\u001b[0m bound_args \u001b[38;5;241m=\u001b[39m function\u001b[38;5;241m.\u001b[39mfunction_type\u001b[38;5;241m.\u001b[39mbind(\u001b[38;5;241m*\u001b[39margs, \u001b[38;5;241m*\u001b[39m\u001b[38;5;241m*\u001b[39mkwargs)\n\u001b[0;32m    138\u001b[0m flat_inputs \u001b[38;5;241m=\u001b[39m function\u001b[38;5;241m.\u001b[39mfunction_type\u001b[38;5;241m.\u001b[39munpack_inputs(bound_args)\n\u001b[1;32m--> 139\u001b[0m \u001b[38;5;28;01mreturn\u001b[39;00m function\u001b[38;5;241m.\u001b[39m_call_flat(  \u001b[38;5;66;03m# pylint: disable=protected-access\u001b[39;00m\n\u001b[0;32m    140\u001b[0m     flat_inputs, captured_inputs\u001b[38;5;241m=\u001b[39mfunction\u001b[38;5;241m.\u001b[39mcaptured_inputs\n\u001b[0;32m    141\u001b[0m )\n",
      "File \u001b[1;32m~\\anaconda3\\Lib\\site-packages\\tensorflow\\python\\eager\\polymorphic_function\\concrete_function.py:1323\u001b[0m, in \u001b[0;36mConcreteFunction._call_flat\u001b[1;34m(self, tensor_inputs, captured_inputs)\u001b[0m\n\u001b[0;32m   1319\u001b[0m possible_gradient_type \u001b[38;5;241m=\u001b[39m gradients_util\u001b[38;5;241m.\u001b[39mPossibleTapeGradientTypes(args)\n\u001b[0;32m   1320\u001b[0m \u001b[38;5;28;01mif\u001b[39;00m (possible_gradient_type \u001b[38;5;241m==\u001b[39m gradients_util\u001b[38;5;241m.\u001b[39mPOSSIBLE_GRADIENT_TYPES_NONE\n\u001b[0;32m   1321\u001b[0m     \u001b[38;5;129;01mand\u001b[39;00m executing_eagerly):\n\u001b[0;32m   1322\u001b[0m   \u001b[38;5;66;03m# No tape is watching; skip to running the function.\u001b[39;00m\n\u001b[1;32m-> 1323\u001b[0m   \u001b[38;5;28;01mreturn\u001b[39;00m \u001b[38;5;28mself\u001b[39m\u001b[38;5;241m.\u001b[39m_inference_function\u001b[38;5;241m.\u001b[39mcall_preflattened(args)\n\u001b[0;32m   1324\u001b[0m forward_backward \u001b[38;5;241m=\u001b[39m \u001b[38;5;28mself\u001b[39m\u001b[38;5;241m.\u001b[39m_select_forward_and_backward_functions(\n\u001b[0;32m   1325\u001b[0m     args,\n\u001b[0;32m   1326\u001b[0m     possible_gradient_type,\n\u001b[0;32m   1327\u001b[0m     executing_eagerly)\n\u001b[0;32m   1328\u001b[0m forward_function, args_with_tangents \u001b[38;5;241m=\u001b[39m forward_backward\u001b[38;5;241m.\u001b[39mforward()\n",
      "File \u001b[1;32m~\\anaconda3\\Lib\\site-packages\\tensorflow\\python\\eager\\polymorphic_function\\atomic_function.py:216\u001b[0m, in \u001b[0;36mAtomicFunction.call_preflattened\u001b[1;34m(self, args)\u001b[0m\n\u001b[0;32m    214\u001b[0m \u001b[38;5;28;01mdef\u001b[39;00m \u001b[38;5;21mcall_preflattened\u001b[39m(\u001b[38;5;28mself\u001b[39m, args: Sequence[core\u001b[38;5;241m.\u001b[39mTensor]) \u001b[38;5;241m-\u001b[39m\u001b[38;5;241m>\u001b[39m Any:\n\u001b[0;32m    215\u001b[0m \u001b[38;5;250m  \u001b[39m\u001b[38;5;124;03m\"\"\"Calls with flattened tensor inputs and returns the structured output.\"\"\"\u001b[39;00m\n\u001b[1;32m--> 216\u001b[0m   flat_outputs \u001b[38;5;241m=\u001b[39m \u001b[38;5;28mself\u001b[39m\u001b[38;5;241m.\u001b[39mcall_flat(\u001b[38;5;241m*\u001b[39margs)\n\u001b[0;32m    217\u001b[0m   \u001b[38;5;28;01mreturn\u001b[39;00m \u001b[38;5;28mself\u001b[39m\u001b[38;5;241m.\u001b[39mfunction_type\u001b[38;5;241m.\u001b[39mpack_output(flat_outputs)\n",
      "File \u001b[1;32m~\\anaconda3\\Lib\\site-packages\\tensorflow\\python\\eager\\polymorphic_function\\atomic_function.py:251\u001b[0m, in \u001b[0;36mAtomicFunction.call_flat\u001b[1;34m(self, *args)\u001b[0m\n\u001b[0;32m    249\u001b[0m \u001b[38;5;28;01mwith\u001b[39;00m record\u001b[38;5;241m.\u001b[39mstop_recording():\n\u001b[0;32m    250\u001b[0m   \u001b[38;5;28;01mif\u001b[39;00m \u001b[38;5;28mself\u001b[39m\u001b[38;5;241m.\u001b[39m_bound_context\u001b[38;5;241m.\u001b[39mexecuting_eagerly():\n\u001b[1;32m--> 251\u001b[0m     outputs \u001b[38;5;241m=\u001b[39m \u001b[38;5;28mself\u001b[39m\u001b[38;5;241m.\u001b[39m_bound_context\u001b[38;5;241m.\u001b[39mcall_function(\n\u001b[0;32m    252\u001b[0m         \u001b[38;5;28mself\u001b[39m\u001b[38;5;241m.\u001b[39mname,\n\u001b[0;32m    253\u001b[0m         \u001b[38;5;28mlist\u001b[39m(args),\n\u001b[0;32m    254\u001b[0m         \u001b[38;5;28mlen\u001b[39m(\u001b[38;5;28mself\u001b[39m\u001b[38;5;241m.\u001b[39mfunction_type\u001b[38;5;241m.\u001b[39mflat_outputs),\n\u001b[0;32m    255\u001b[0m     )\n\u001b[0;32m    256\u001b[0m   \u001b[38;5;28;01melse\u001b[39;00m:\n\u001b[0;32m    257\u001b[0m     outputs \u001b[38;5;241m=\u001b[39m make_call_op_in_graph(\n\u001b[0;32m    258\u001b[0m         \u001b[38;5;28mself\u001b[39m,\n\u001b[0;32m    259\u001b[0m         \u001b[38;5;28mlist\u001b[39m(args),\n\u001b[0;32m    260\u001b[0m         \u001b[38;5;28mself\u001b[39m\u001b[38;5;241m.\u001b[39m_bound_context\u001b[38;5;241m.\u001b[39mfunction_call_options\u001b[38;5;241m.\u001b[39mas_attrs(),\n\u001b[0;32m    261\u001b[0m     )\n",
      "File \u001b[1;32m~\\anaconda3\\Lib\\site-packages\\tensorflow\\python\\eager\\context.py:1486\u001b[0m, in \u001b[0;36mContext.call_function\u001b[1;34m(self, name, tensor_inputs, num_outputs)\u001b[0m\n\u001b[0;32m   1484\u001b[0m cancellation_context \u001b[38;5;241m=\u001b[39m cancellation\u001b[38;5;241m.\u001b[39mcontext()\n\u001b[0;32m   1485\u001b[0m \u001b[38;5;28;01mif\u001b[39;00m cancellation_context \u001b[38;5;129;01mis\u001b[39;00m \u001b[38;5;28;01mNone\u001b[39;00m:\n\u001b[1;32m-> 1486\u001b[0m   outputs \u001b[38;5;241m=\u001b[39m execute\u001b[38;5;241m.\u001b[39mexecute(\n\u001b[0;32m   1487\u001b[0m       name\u001b[38;5;241m.\u001b[39mdecode(\u001b[38;5;124m\"\u001b[39m\u001b[38;5;124mutf-8\u001b[39m\u001b[38;5;124m\"\u001b[39m),\n\u001b[0;32m   1488\u001b[0m       num_outputs\u001b[38;5;241m=\u001b[39mnum_outputs,\n\u001b[0;32m   1489\u001b[0m       inputs\u001b[38;5;241m=\u001b[39mtensor_inputs,\n\u001b[0;32m   1490\u001b[0m       attrs\u001b[38;5;241m=\u001b[39mattrs,\n\u001b[0;32m   1491\u001b[0m       ctx\u001b[38;5;241m=\u001b[39m\u001b[38;5;28mself\u001b[39m,\n\u001b[0;32m   1492\u001b[0m   )\n\u001b[0;32m   1493\u001b[0m \u001b[38;5;28;01melse\u001b[39;00m:\n\u001b[0;32m   1494\u001b[0m   outputs \u001b[38;5;241m=\u001b[39m execute\u001b[38;5;241m.\u001b[39mexecute_with_cancellation(\n\u001b[0;32m   1495\u001b[0m       name\u001b[38;5;241m.\u001b[39mdecode(\u001b[38;5;124m\"\u001b[39m\u001b[38;5;124mutf-8\u001b[39m\u001b[38;5;124m\"\u001b[39m),\n\u001b[0;32m   1496\u001b[0m       num_outputs\u001b[38;5;241m=\u001b[39mnum_outputs,\n\u001b[1;32m   (...)\u001b[0m\n\u001b[0;32m   1500\u001b[0m       cancellation_manager\u001b[38;5;241m=\u001b[39mcancellation_context,\n\u001b[0;32m   1501\u001b[0m   )\n",
      "File \u001b[1;32m~\\anaconda3\\Lib\\site-packages\\tensorflow\\python\\eager\\execute.py:53\u001b[0m, in \u001b[0;36mquick_execute\u001b[1;34m(op_name, num_outputs, inputs, attrs, ctx, name)\u001b[0m\n\u001b[0;32m     51\u001b[0m \u001b[38;5;28;01mtry\u001b[39;00m:\n\u001b[0;32m     52\u001b[0m   ctx\u001b[38;5;241m.\u001b[39mensure_initialized()\n\u001b[1;32m---> 53\u001b[0m   tensors \u001b[38;5;241m=\u001b[39m pywrap_tfe\u001b[38;5;241m.\u001b[39mTFE_Py_Execute(ctx\u001b[38;5;241m.\u001b[39m_handle, device_name, op_name,\n\u001b[0;32m     54\u001b[0m                                       inputs, attrs, num_outputs)\n\u001b[0;32m     55\u001b[0m \u001b[38;5;28;01mexcept\u001b[39;00m core\u001b[38;5;241m.\u001b[39m_NotOkStatusException \u001b[38;5;28;01mas\u001b[39;00m e:\n\u001b[0;32m     56\u001b[0m   \u001b[38;5;28;01mif\u001b[39;00m name \u001b[38;5;129;01mis\u001b[39;00m \u001b[38;5;129;01mnot\u001b[39;00m \u001b[38;5;28;01mNone\u001b[39;00m:\n",
      "\u001b[1;31mKeyboardInterrupt\u001b[0m: "
     ]
    }
   ],
   "source": [
    "history = cnn.fit(train_data,\n",
    "       validation_data=val_data,\n",
    "       epochs=15)"
   ]
  },
  {
   "cell_type": "code",
   "execution_count": 49,
   "id": "1ed614a2-0957-4b6a-bb6c-491de391b6cf",
   "metadata": {
    "tags": []
   },
   "outputs": [
    {
     "name": "stdout",
     "output_type": "stream",
     "text": [
      "41/41 [==============================] - 56s 1s/step\n"
     ]
    }
   ],
   "source": [
    "y_pred = cnn.predict(test_data)"
   ]
  },
  {
   "cell_type": "code",
   "execution_count": 50,
   "id": "37df5629-5b12-4fbe-acae-a8b903ed960d",
   "metadata": {
    "tags": []
   },
   "outputs": [],
   "source": [
    "y_pred = tf.argmax(y_pred, axis=1).numpy()"
   ]
  },
  {
   "cell_type": "code",
   "execution_count": 51,
   "id": "c046929b-c348-40f4-bd0c-117b5966207a",
   "metadata": {
    "tags": []
   },
   "outputs": [
    {
     "data": {
      "text/plain": [
       "array([0, 0, 0, ..., 3, 3, 3], dtype=int64)"
      ]
     },
     "execution_count": 51,
     "metadata": {},
     "output_type": "execute_result"
    }
   ],
   "source": [
    "y_pred"
   ]
  },
  {
   "cell_type": "code",
   "execution_count": 53,
   "id": "796106cd-68da-41cd-9b50-88f312ad68d7",
   "metadata": {
    "tags": []
   },
   "outputs": [],
   "source": [
    "y_true = []\n",
    "for images, labels in test_data:\n",
    "    y_true.extend(labels.numpy())\n",
    "y_true = np.array(y_true)"
   ]
  },
  {
   "cell_type": "code",
   "execution_count": 54,
   "id": "abfc975b-ac60-479d-b277-1ac677a783da",
   "metadata": {
    "tags": []
   },
   "outputs": [
    {
     "data": {
      "text/plain": [
       "array([0, 0, 0, ..., 3, 3, 3])"
      ]
     },
     "execution_count": 54,
     "metadata": {},
     "output_type": "execute_result"
    }
   ],
   "source": [
    "y_true"
   ]
  },
  {
   "cell_type": "code",
   "execution_count": 57,
   "id": "d9c5de47-745e-4dc0-9638-7c48f03b905b",
   "metadata": {
    "tags": []
   },
   "outputs": [],
   "source": [
    "from sklearn.metrics import confusion_matrix, accuracy_score, classification_report, ConfusionMatrixDisplay"
   ]
  },
  {
   "cell_type": "code",
   "execution_count": 58,
   "id": "2700af5e-a150-4233-9fac-2d56a916275e",
   "metadata": {
    "tags": []
   },
   "outputs": [
    {
     "data": {
      "text/plain": [
       "0.9496567505720824"
      ]
     },
     "execution_count": 58,
     "metadata": {},
     "output_type": "execute_result"
    }
   ],
   "source": [
    "accuracy_score(y_true, y_pred)"
   ]
  },
  {
   "cell_type": "code",
   "execution_count": 59,
   "id": "941ce89b-2ca9-4f85-ba01-4856430cd101",
   "metadata": {
    "tags": []
   },
   "outputs": [
    {
     "data": {
      "text/plain": [
       "array([[278,  20,   0,   2],\n",
       "       [  9, 273,   8,  16],\n",
       "       [  0,   3, 398,   4],\n",
       "       [  1,   3,   0, 296]], dtype=int64)"
      ]
     },
     "execution_count": 59,
     "metadata": {},
     "output_type": "execute_result"
    }
   ],
   "source": [
    "cm = confusion_matrix(y_true, y_pred)\n",
    "cm"
   ]
  },
  {
   "cell_type": "code",
   "execution_count": 77,
   "id": "08bbd063-e7c5-4452-8432-2943d148aa75",
   "metadata": {
    "tags": []
   },
   "outputs": [],
   "source": [
    "class_names = train_data.class_names"
   ]
  },
  {
   "cell_type": "code",
   "execution_count": 80,
   "id": "63da9b00-c599-44ea-9416-77d5cca4cb76",
   "metadata": {
    "tags": []
   },
   "outputs": [
    {
     "data": {
      "image/png": "[encoded data removed]",
      "text/plain": [
       "<Figure size 640x480 with 2 Axes>"
      ]
     },
     "metadata": {},
     "output_type": "display_data"
    }
   ],
   "source": [
    "cmd = ConfusionMatrixDisplay(cm, display_labels=class_names)\n",
    "cmd.plot()\n",
    "plt.show()"
   ]
  },
  {
   "cell_type": "code",
   "execution_count": 83,
   "id": "6f6f5965-8aaf-46fb-afb9-52f98e5f3003",
   "metadata": {
    "tags": []
   },
   "outputs": [
    {
     "name": "stdout",
     "output_type": "stream",
     "text": [
      "              precision    recall  f1-score   support\n",
      "\n",
      "      glioma       0.97      0.93      0.95       300\n",
      "  meningioma       0.91      0.89      0.90       306\n",
      "     notumor       0.98      0.98      0.98       405\n",
      "   pituitary       0.93      0.99      0.96       300\n",
      "\n",
      "    accuracy                           0.95      1311\n",
      "   macro avg       0.95      0.95      0.95      1311\n",
      "weighted avg       0.95      0.95      0.95      1311\n",
      "\n"
     ]
    }
   ],
   "source": [
    "print(classification_report(y_true, y_pred, target_names=class_names))"
   ]
  },
  {
   "cell_type": "code",
   "execution_count": 84,
   "id": "c80a63ab-ba32-48eb-89f5-90842008bc55",
   "metadata": {
    "tags": []
   },
   "outputs": [],
   "source": [
    "cnn.save('saved_models/vgg19_finetune.keras')"
   ]
  },
  {
   "cell_type": "code",
   "execution_count": 91,
   "id": "068fcae0-ec45-4ece-b8e6-f1f0cd284c93",
   "metadata": {
    "collapsed": true,
    "jupyter": {
     "outputs_hidden": true
    },
    "tags": []
   },
   "outputs": [
    {
     "name": "stdout",
     "output_type": "stream",
     "text": [
      "Model: \"sequential_2\"\n",
      "____________________________________________________________________________\n",
      " Layer (type)                Output Shape              Param #   Trainable  \n",
      "============================================================================\n",
      " vgg19 (Functional)          (None, 4, 4, 512)         2002438   Y          \n",
      "                                                       4                    \n",
      "|¯¯¯¯¯¯¯¯¯¯¯¯¯¯¯¯¯¯¯¯¯¯¯¯¯¯¯¯¯¯¯¯¯¯¯¯¯¯¯¯¯¯¯¯¯¯¯¯¯¯¯¯¯¯¯¯¯¯¯¯¯¯¯¯¯¯¯¯¯¯¯¯¯¯|\n",
      "| input_2 (InputLayer)       [(None, 128, 128, 3)]     0         N         |\n",
      "|                                                                          |\n",
      "| block1_conv1 (Conv2D)      (None, 128, 128, 64)      1792      N         |\n",
      "|                                                                          |\n",
      "| block1_conv2 (Conv2D)      (None, 128, 128, 64)      36928     N         |\n",
      "|                                                                          |\n",
      "| block1_pool (MaxPooling2D  (None, 64, 64, 64)        0         N         |\n",
      "| )                                                                        |\n",
      "|                                                                          |\n",
      "| block2_conv1 (Conv2D)      (None, 64, 64, 128)       73856     N         |\n",
      "|                                                                          |\n",
      "| block2_conv2 (Conv2D)      (None, 64, 64, 128)       147584    N         |\n",
      "|                                                                          |\n",
      "| block2_pool (MaxPooling2D  (None, 32, 32, 128)       0         N         |\n",
      "| )                                                                        |\n",
      "|                                                                          |\n",
      "| block3_conv1 (Conv2D)      (None, 32, 32, 256)       295168    N         |\n",
      "|                                                                          |\n",
      "| block3_conv2 (Conv2D)      (None, 32, 32, 256)       590080    N         |\n",
      "|                                                                          |\n",
      "| block3_conv3 (Conv2D)      (None, 32, 32, 256)       590080    N         |\n",
      "|                                                                          |\n",
      "| block3_conv4 (Conv2D)      (None, 32, 32, 256)       590080    N         |\n",
      "|                                                                          |\n",
      "| block3_pool (MaxPooling2D  (None, 16, 16, 256)       0         N         |\n",
      "| )                                                                        |\n",
      "|                                                                          |\n",
      "| block4_conv1 (Conv2D)      (None, 16, 16, 512)       1180160   N         |\n",
      "|                                                                          |\n",
      "| block4_conv2 (Conv2D)      (None, 16, 16, 512)       2359808   N         |\n",
      "|                                                                          |\n",
      "| block4_conv3 (Conv2D)      (None, 16, 16, 512)       2359808   N         |\n",
      "|                                                                          |\n",
      "| block4_conv4 (Conv2D)      (None, 16, 16, 512)       2359808   Y         |\n",
      "|                                                                          |\n",
      "| block4_pool (MaxPooling2D  (None, 8, 8, 512)         0         Y         |\n",
      "| )                                                                        |\n",
      "|                                                                          |\n",
      "| block5_conv1 (Conv2D)      (None, 8, 8, 512)         2359808   Y         |\n",
      "|                                                                          |\n",
      "| block5_conv2 (Conv2D)      (None, 8, 8, 512)         2359808   Y         |\n",
      "|                                                                          |\n",
      "| block5_conv3 (Conv2D)      (None, 8, 8, 512)         2359808   Y         |\n",
      "|                                                                          |\n",
      "| block5_conv4 (Conv2D)      (None, 8, 8, 512)         2359808   Y         |\n",
      "|                                                                          |\n",
      "| block5_pool (MaxPooling2D  (None, 4, 4, 512)         0         Y         |\n",
      "| )                                                                        |\n",
      "¯¯¯¯¯¯¯¯¯¯¯¯¯¯¯¯¯¯¯¯¯¯¯¯¯¯¯¯¯¯¯¯¯¯¯¯¯¯¯¯¯¯¯¯¯¯¯¯¯¯¯¯¯¯¯¯¯¯¯¯¯¯¯¯¯¯¯¯¯¯¯¯¯¯¯¯\n",
      " flatten_1 (Flatten)         (None, 8192)              0         Y          \n",
      "                                                                            \n",
      " dense_4 (Dense)             (None, 128)               1048704   Y          \n",
      "                                                                            \n",
      " dense_5 (Dense)             (None, 4)                 516       Y          \n",
      "                                                                            \n",
      "============================================================================\n",
      "Total params: 21073604 (80.39 MB)\n",
      "Trainable params: 12848260 (49.01 MB)\n",
      "Non-trainable params: 8225344 (31.38 MB)\n",
      "____________________________________________________________________________\n"
     ]
    }
   ],
   "source": [
    "cnn.summary(expand_nested=True, show_trainable=True)"
   ]
  }
 ],
 "metadata": {
  "kernelspec": {
   "display_name": "Python 3 (ipykernel)",
   "language": "python",
   "name": "python3"
  },
  "language_info": {
   "codemirror_mode": {
    "name": "ipython",
    "version": 3
   },
   "file_extension": ".py",
   "mimetype": "text/x-python",
   "name": "python",
   "nbconvert_exporter": "python",
   "pygments_lexer": "ipython3",
   "version": "3.11.5"
  }
 },
 "nbformat": 4,
 "nbformat_minor": 5
}
